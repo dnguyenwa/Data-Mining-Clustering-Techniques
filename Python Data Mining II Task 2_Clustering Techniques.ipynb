{
 "cells": [
  {
   "cell_type": "markdown",
   "id": "b9aaf8b7",
   "metadata": {},
   "source": [
    "Dung Nguyen\n",
    "\n",
    "Data Mining II\n",
    "\n",
    "Clustering Techniques - Task 1\n"
   ]
  },
  {
   "cell_type": "markdown",
   "id": "9bf81e61",
   "metadata": {},
   "source": [
    "**Scenario 2**\n",
    "\n",
    "One of the most critical factors in patient relationship management that directly affects a hospital’s long-term cost-effectiveness is understanding its patients and the conditions leading to hospital admissions. When a hospital can better understand its patients’ characteristics, it is better able to target treatment to patients, resulting in more effective cost of care for the hospital in the long term.\n",
    " \n",
    "You are an analyst for a hospital that wants to better understand the characteristics of its patients. You have been asked to use PCA to analyze patient data to identify the principal variables of your patients, ultimately allowing better business and strategic decision-making for the hospital.\n"
   ]
  },
  {
   "cell_type": "markdown",
   "id": "057f2e81",
   "metadata": {},
   "source": [
    "# Part 1: Research Question"
   ]
  },
  {
   "cell_type": "markdown",
   "id": "5388763e",
   "metadata": {},
   "source": [
    "**A1. Research Question:**\n",
    "\n",
    "Can we better understand our patients by clustering based on Initial_days, Income, TotalCharge, and Additional_charges?\n",
    "\n",
    "I will use the k-means clustering technique in Python to answer this question.\n"
   ]
  },
  {
   "cell_type": "markdown",
   "id": "1712577b",
   "metadata": {},
   "source": [
    "**A2. The goal of the data analysis:**\n",
    "    \n",
    "The business will be able to identify which variables of the patients are the most important to understand and demonstrate that patients are at high risk of readmission with some measure of confidence. This process will provide weight for improving hospital services, treatments and presenting numerical values to help the hospital understand their patients better."
   ]
  },
  {
   "cell_type": "markdown",
   "id": "886a3264",
   "metadata": {},
   "source": [
    "# Part 2: Method Justification"
   ]
  },
  {
   "cell_type": "markdown",
   "id": "d353a132",
   "metadata": {},
   "source": [
    "**B1. Explanation of the k-means clustering technique:**\n",
    "\n",
    "The k means method is the most straightforward clustering algorithm, a subset of unsupervised learning, and there is some inherent subjectivity in the labeling process.\n",
    "\n",
    "“The k-means algorithm searches for a pre-determined number of clusters within an unlabeled multidimensional dataset. \n",
    "\n",
    "•\tThe cluster center is the arithmetic mean of all the points belonging to the cluster.\n",
    "\n",
    "•\tEach point is closer to its own cluster center than to other cluster centers.\"\n",
    "\n",
    "(VanderPlas Jake, n.d)\n"
   ]
  },
  {
   "cell_type": "markdown",
   "id": "a20e5f0e",
   "metadata": {},
   "source": [
    "**B2. Assumption of the k-means clustering technique** (one)\n",
    "\n",
    "According to Akanksha Nagar, the k-means clustering is based on the following assumptions:\n",
    "\n",
    "\"This algorithm considers only distance, thus does not account for clusters with different sizes or densities. It assumes that features within a cluster have equal variance.\" (Akanksha Nagar. 2020)\n"
   ]
  },
  {
   "cell_type": "markdown",
   "id": "23baa846",
   "metadata": {},
   "source": [
    "**B3. Tool and technique:**\n",
    "\n",
    "I have many programming languages that I can use, such as R and Python, to achieve this process. In this assignment, I use Python to assess data quality, clean the data, and predict the data. Python is a multipurpose programming language with libraries that extend its capabilities to do statistical analysis. For the beginner, coding in Python is easy to read and easy to understand the flows of the program. Also, I will work with Python in the Jupyter notebooks as a convenient way to run code and visualizations and accessible to running documentation for my reference. \n",
    " \n",
    "The libraries and packages used to clean the data run in python environments such as Panda, NumPy, Scipy, Matplotlib, and Seaborn. These libraries and packages provide functionalities like reading large datasets like statistical functions like Zscore, creating visualization models like box plots and histograms. I also use Scikit-learn for the k-means clustering technique.\n"
   ]
  },
  {
   "cell_type": "markdown",
   "id": "544b4def",
   "metadata": {},
   "source": [
    "# Part 3: Data Preparation"
   ]
  },
  {
   "cell_type": "markdown",
   "id": "3c7908d0",
   "metadata": {},
   "source": [
    "**C1. The data preprocessing:** (one)\n",
    "\n",
    "A key preprocessing goal we need to consider is whether we have a prepared dataset without irregularities. The first stage of data processing for the k-means clustering is we must consider using the numerical variables only because \"K-means uses distance-based measurements to determine the similarity between data points.\" (Pyzhkov, 2020). Another data processing stage for k-means clustering is handling the missing data, so we need to see and address them before using the k-means. There are a couple of ways to solve the missing value problem, such as removing rows with missing values or imputing the missing values. I will prefer imputing the missing values way because removing the rows can cause failure in the data.\n",
    "\n",
    "For this assignment, I demonstrated continuous variables: Initial_days, TotalCharge, Income, and Additional_charges to perform the analyses. To give equal importance to all features, I will scale the continuous features using scikit-learn's MinMaxScaler as the feature matrix. The min/max scaler shows the shape of the original distribution. In each value in the feature, the min/max scaler subtracts the minimum value in the feature, then divides the difference between the actual maximum and the original minimum by the range. So it doesn't change the information embedded in the original data. For example, the min/max scaler has default rage for the features is 0 to 1."
   ]
  },
  {
   "cell_type": "markdown",
   "id": "a1e056cd",
   "metadata": {},
   "source": [
    "**C2. Dataset Variables**\n",
    "\n",
    "I will identify and classify the initial dataset variables as continuous or categorical variables used to perform the analysis for this assignment below. \n",
    "\n",
    "In the cleaning process, I will drop all the less meaningful variables ('CaseOrder', 'Customer_id', 'Job', 'Interaction', 'UID','City', 'State', 'County', 'Zip', 'Lat', 'Lng', 'Population', 'Area', 'TimeZone') that I think we don't need in this assement. And the **matrix features** includes all features except for these (drop variables). \n",
    "\n",
    "I will use these continuous variables: **Initial_days, TotalCharge, Income, and Additional_charges** for visualization purposes. I will use the Scikit-learn KMeans class to iterate over three sets of paired relevant features to provide meaningful heuristics that better understand our patients and, therefore, make better hospital decisions. To find optimal clusters, I will use the scree plot elbow method and Within Cluster Sum of Squares (WCSS) for each set, respectively.\n",
    "\n",
    "These three sets are:\n",
    "\n",
    "1. Initial_days and TotalCharge\n",
    "\n",
    "2. Income and TotalCharge\n",
    "\n",
    "3. Initial_days and Additional_charges"
   ]
  },
  {
   "cell_type": "markdown",
   "id": "8afa0bbe",
   "metadata": {},
   "source": [
    "**Label the dataset variables as continuous or categorical:**\n",
    "\n",
    "The medical dataset for this performance assignment by using **medical_clean.cvs** file.\n",
    "The medical_clean data set is 10000 patient records in the medical industry and 50 columns (variables).\n",
    "\n",
    "**The dependent/target variable** is 'ReAdmis', which is binary categorical with only two values, Yes or No.\n",
    "\n",
    "**Continuous predictor variables:** \n",
    " \n",
    "* **Income** (used in this clustering assessment)\n",
    "* **Initial_days** (used in this clustering assessment)\n",
    "* **TotalCharge** (used in this clustering assessment)\n",
    "* **Additional_charges** (used in this clustering assessment)\n",
    "* Children \n",
    "* Age\n",
    "* VitD_levels\n",
    "* Doc_visits\n",
    "* Full_meals_eaten\n",
    "* VitD_supp\n",
    "\n",
    "During this prepare process, will drop all less meaningful variables: 'CaseOrder','Customer_id','job', 'Interaction','UID','City','State', 'County','Zip', 'Lat','Lng','Population','Area','TimeZone'\n",
    "\n",
    "Second, I will encoding all categorial values with multiple categories and two types yes/no values: 'ReAdmis','Soft_drink','Initial_admin','HighBlood','Stroke','Complication_risk','Overweight','Arthritis','Diabetes','Hyperlipidemia','BackPain','Anxiety','Allergic_rhinitis','Reflux_esophagitis','Asthma','Services'\n",
    "\n",
    "\n",
    "**Categorical predictor variables:** \n",
    "* Soft_drink \n",
    "* Initial_admin \n",
    "* HighBlood \n",
    "* Stroke \n",
    "* Complication_risk \n",
    "* Overweight \n",
    "* Arthritis \n",
    "* Diabetes \n",
    "* Hyperlipidemia \n",
    "* BackPain \n",
    "* Anxiety \n",
    "* Allergic_rhinitis \n",
    "* Reflux_esophagitis \n",
    "* Asthma \n",
    "* Services \n",
    "* Marital \n",
    "* Gender\n",
    "\n",
    "Definition:\n",
    "\n",
    "* Age: This variable indicates the patient’s age as provided by the patient. The variable represents customer demographic data. The data type is an integer.\n",
    "\n",
    "* Children: This variable indicates the number of children in patient’s household as provided by the patient. The variable represents customer demographic data. The data type is an integer.\n",
    "\n",
    "* VitD_levels: This variable indicates the patient’s vitamin D levels as measured in ng/mL. The data type is continuous numeric.\n",
    "\n",
    "* Doc_visits: This variable indicates the number of times the primary physician visited the patient during the initial hospitalization. The data type is an integer.\n",
    "\n",
    "* Full_meals_eaten: This variable indicates the number of complete meals eaten (partial meals count as 0, and some patients had more than three meals in a day if requested). The data type is an integer.\n",
    "\n",
    "* VitD_supp: This variable indicates the number of times that vitamin D supplements were administered to the patient. The data type is an integer.\n",
    "\n",
    "* Income: This variable indicates the annual income of the patient (or the primary insurance holder) as provided by the patient. The variable represents customer demographic data. The data type is numeric.\n",
    "\n",
    "* Initial_days: This variable indicates the number of days the patient stayed in the hospital during the initial visit. The data type is numeric. \n",
    "\n",
    "* TotalCharge: This variable indicates the patient’s average daily charges for typical (not specialized) treatments and services during the initial visit. The data type is numeric.\n",
    "\n",
    "* Additional_charges: This variable indicates the patient’s average daily charges for additional treatments and services during the initial visit. The data type is numeric.\n",
    "\n",
    "* Marital: This variable indicates the patient’s (or primary insurance holder’s) marital status as provided by the patient. The nominal categorical variable represents customer demographic data. The data type is a character string.\n",
    "\n",
    "* Gender: This variable indicates the patient’s gender as provided by the patient. The nominal categorical variable represents customer demographic data. The data type is a character string.\n",
    "\n",
    "* Gender: This variable indicates the patient’s gender as provided by the patient. The nominal categorical variable represents customer demographic data. The data type is a character string.\n",
    "\n",
    "* Soft_drink: This variable indicates the whether or not the patient regularly drinks three or more sodas in a day.  This is a binary categorical variable. The value is yes/no. The data type is a character string.\n",
    "\n",
    "* Initial_admin: This variable indicates how the patient was initially admitted into the hospital. The is the nominal categorical variable. The data type is a character string.\n",
    "\n",
    "* HighBlood: This variable indicates whether or not the patient has high blood pressure. This is a binary categorical variable. The value is yes/no. The data type is a character string.\n",
    "\n",
    "* Stroke: This variable indicates whether or not the patient has had a stroke. This is a binary categorical variable. The data type is a character string.\n",
    "\n",
    "* Complication_risk: This variable indicates the level of complication risk. This is an ordinal categorical variable. The value is high/medium/low. The data type is a character string.\n",
    "\n",
    "* Overweight: This variable indicates whether the patient is overweight, as determined by age, gender, and height. This is a binary categorical variable. The value is 1 for yes, and 0 for no. The data type is an integer.\n",
    "\n",
    "* Arthritis: This variable indicates whether or not the patient has arthritis. This is a binary categorical variable. The value is yes/no. The data type is a character string.\n",
    "\n",
    "* Diabetes: This variable indicates whether or not the patient has diabetes. This is a binary categorical variable. The value is yes/no. The data type is a character string.\n",
    "\n",
    "* Hyperlipidemia: This variable indicates whether or not the patient has hyperlipidemia. This is a binary categorical variable. The value is yes/no. The data type is a character string.\n",
    "\n",
    "* BackPain: This variable indicates whether or not the patient has chronic back pain. This is a binary categorical variable. The value is yes/no. The data type is a character string.\n",
    "\n",
    "* Anxiety: This variable indicates whether the patient has an anxiety disorder. This is a binary categorical variable. The value is 1 for yes and 0 for no. The data type is an integer.\n",
    "\n",
    "* Allergic_rhinitis: This variable indicates whether or not the patient has allergic rhinitis. This is a binary categorical variable. The value is yes/no. The data type is a character string.\n",
    "\n",
    "* Reflux_esophagitis: This variable indicates whether or not the patient has reflux esophagitis. This is a binary categorical variable. The value is yes/no. The data type is a character string.\n",
    "\n",
    "* Asthma: This variable indicates whether or not the patient has asthma. This is a binary categorical variable. The value is yes/no. The data type is a character string.\n",
    "\n",
    "* Services: This variable indicates the primary service the patient received while hospitalized. This is a nominal categorical variable. The data type is a character string.\n",
    "\n",
    "\n",
    "**The discrete ordinal predictor variables** from survey responses of customers regarding various customer service features may be relevant in the decisionmaking process:\n",
    "\n",
    "* Item1: This is reported by the patient. It indicates the level of importance of timely admission from most important (1) to least important (8). The data type is an integer.\n",
    "\n",
    "* Item2: This is reported by the patient. It indicates the level of importance of timely treatment from most important (1) to least important (8). The data type is an integer.\n",
    "\n",
    "* Item3: This is reported by the patient. It indicates the level of importance of timely visits from most important (1) to least important (8). The data type is an integer.\n",
    "\n",
    "* Item4: This is reported by the patient. It indicates the level of importance of reliability from most important (1) to least important (8). The data type is an integer.\n",
    "\n",
    "* Item5: This is reported by the patient. It indicates the level of importance of options from most important (1) to least important (8). The data type is an integer.\n",
    "\n",
    "* Item6: This is reported by the patient. It indicates the level of importance of hours of treatment from most important (1) to least important (8). The data type is an integer.\n",
    "\n",
    "* Item7: This is reported by the patient. It indicates the level of importance of courteous staff from most important (1) to least important (8). The data type is an integer.\n",
    "\n",
    "* Item8: This is reported by the patient. It indicates the level of importance of evidence of active listening from a doctor from most important (1) to least important (8). The data type is an integer.\n"
   ]
  },
  {
   "cell_type": "markdown",
   "id": "1ce5ccf6",
   "metadata": {},
   "source": [
    "**C3. Steps for analysis:**\n",
    "\n",
    "Step 1. The steps used to prepare the dataset:\n",
    "\n",
    "1. Install necessary packages\n",
    "2. Read and check the data set in Python using Pandas' read_csv command\n",
    "3. Naming the dataset as the variable \"medical_df\" and subsequent proper slices of the data frame as \"medical_df\".\n",
    "4. Evaluate the data structure to understand input data better\n",
    "5. Drop the less meaningful variables and Rename the last eight survey columns for a better description of variables\n",
    "6. Re-validate column, null values, and find missing values.\n",
    "7. Display any duplicate rows in the data frame.\n",
    "8. Categorical Encoding Values with multiple categories.\n",
    "9. Categorical Encoding Values with two types, Yes/No.\n",
    "10. Creating histograms, boxplots, plot-bar of continuous variables, categorical variables \n",
    "11. Show the prepared data before scaling. (medical_prepared_kmeans.cvs)\n",
    "12. Scale the features for use in the k-means clustering analysis (Initial_days,TotalCharge, Income, Additional_charges)\n",
    "13. Show the prepared data for use in the k-means clustering analysis. (medical_prepared_scaled_kmeans.cvs)\n",
    "\n",
    "Step 2. Load medical_preapred_scaled_kmeans.csv into the new data frame.\n",
    "\n",
    "Step 3. Use the Scikit-learn KMeans class to iterate over three sets of paired relevant features. \n",
    "* Select indexes (features) for initial clustering\n",
    "* Plotting the data\n",
    "* Clustering and viewing the results\n",
    "* Train the K-means model on the dataset\n",
    "\n",
    "These three sets are:\n",
    "\n",
    "1. Initial_days and TotalCharge\n",
    "\n",
    "2. Income and TotalCharge\n",
    "\n",
    "3. Initial_days and Additional_charges\n",
    "\n",
    "\n",
    "Step 4. Find optimal clusters by using the scree plot elbow method and Within Cluster Sum of Squares (WCSS) for each set, respectively.\n",
    "\n",
    "Step5. Results and Actions.\n"
   ]
  },
  {
   "cell_type": "markdown",
   "id": "6ee31199",
   "metadata": {},
   "source": [
    "**Explain the steps**"
   ]
  },
  {
   "cell_type": "code",
   "execution_count": 1,
   "id": "c20301d2",
   "metadata": {},
   "outputs": [
    {
     "name": "stdout",
     "output_type": "stream",
     "text": [
      "Requirement already satisfied: pandas in c:\\users\\chris mcgee\\anaconda3\\lib\\site-packages (1.2.4)\n",
      "Requirement already satisfied: pytz>=2017.3 in c:\\users\\chris mcgee\\anaconda3\\lib\\site-packages (from pandas) (2021.1)\n",
      "Requirement already satisfied: numpy>=1.16.5 in c:\\users\\chris mcgee\\anaconda3\\lib\\site-packages (from pandas) (1.20.1)\n",
      "Requirement already satisfied: python-dateutil>=2.7.3 in c:\\users\\chris mcgee\\anaconda3\\lib\\site-packages (from pandas) (2.8.1)\n",
      "Requirement already satisfied: six>=1.5 in c:\\users\\chris mcgee\\anaconda3\\lib\\site-packages (from python-dateutil>=2.7.3->pandas) (1.15.0)\n",
      "Requirement already satisfied: numpy in c:\\users\\chris mcgee\\anaconda3\\lib\\site-packages (1.20.1)\n",
      "Requirement already satisfied: scipy in c:\\users\\chris mcgee\\anaconda3\\lib\\site-packages (1.6.2)\n",
      "Requirement already satisfied: numpy<1.23.0,>=1.16.5 in c:\\users\\chris mcgee\\anaconda3\\lib\\site-packages (from scipy) (1.20.1)\n",
      "Requirement already satisfied: sklearn in c:\\users\\chris mcgee\\anaconda3\\lib\\site-packages (0.0)\n",
      "Requirement already satisfied: scikit-learn in c:\\users\\chris mcgee\\anaconda3\\lib\\site-packages (from sklearn) (0.24.1)\n",
      "Requirement already satisfied: joblib>=0.11 in c:\\users\\chris mcgee\\anaconda3\\lib\\site-packages (from scikit-learn->sklearn) (1.0.1)\n",
      "Requirement already satisfied: threadpoolctl>=2.0.0 in c:\\users\\chris mcgee\\anaconda3\\lib\\site-packages (from scikit-learn->sklearn) (2.1.0)\n",
      "Requirement already satisfied: numpy>=1.13.3 in c:\\users\\chris mcgee\\anaconda3\\lib\\site-packages (from scikit-learn->sklearn) (1.20.1)\n",
      "Requirement already satisfied: scipy>=0.19.1 in c:\\users\\chris mcgee\\anaconda3\\lib\\site-packages (from scikit-learn->sklearn) (1.6.2)\n",
      "Requirement already satisfied: matplotlib in c:\\users\\chris mcgee\\anaconda3\\lib\\site-packages (3.3.4)\n",
      "Requirement already satisfied: numpy>=1.15 in c:\\users\\chris mcgee\\anaconda3\\lib\\site-packages (from matplotlib) (1.20.1)\n",
      "Requirement already satisfied: cycler>=0.10 in c:\\users\\chris mcgee\\anaconda3\\lib\\site-packages (from matplotlib) (0.10.0)\n",
      "Requirement already satisfied: python-dateutil>=2.1 in c:\\users\\chris mcgee\\anaconda3\\lib\\site-packages (from matplotlib) (2.8.1)\n",
      "Requirement already satisfied: pyparsing!=2.0.4,!=2.1.2,!=2.1.6,>=2.0.3 in c:\\users\\chris mcgee\\anaconda3\\lib\\site-packages (from matplotlib) (2.4.7)\n",
      "Requirement already satisfied: pillow>=6.2.0 in c:\\users\\chris mcgee\\anaconda3\\lib\\site-packages (from matplotlib) (8.2.0)\n",
      "Requirement already satisfied: kiwisolver>=1.0.1 in c:\\users\\chris mcgee\\anaconda3\\lib\\site-packages (from matplotlib) (1.3.1)\n",
      "Requirement already satisfied: six in c:\\users\\chris mcgee\\anaconda3\\lib\\site-packages (from cycler>=0.10->matplotlib) (1.15.0)\n",
      "Requirement already satisfied: sns in c:\\users\\chris mcgee\\anaconda3\\lib\\site-packages (0.1)\n",
      "Requirement already satisfied: plotly in c:\\users\\chris mcgee\\anaconda3\\lib\\site-packages (5.4.0)\n",
      "Requirement already satisfied: tenacity>=6.2.0 in c:\\users\\chris mcgee\\anaconda3\\lib\\site-packages (from plotly) (8.0.1)\n",
      "Requirement already satisfied: six in c:\\users\\chris mcgee\\anaconda3\\lib\\site-packages (from plotly) (1.15.0)\n",
      "Requirement already satisfied: missingno in c:\\users\\chris mcgee\\anaconda3\\lib\\site-packages (0.5.0)\n",
      "Requirement already satisfied: matplotlib in c:\\users\\chris mcgee\\anaconda3\\lib\\site-packages (from missingno) (3.3.4)\n",
      "Requirement already satisfied: numpy in c:\\users\\chris mcgee\\anaconda3\\lib\\site-packages (from missingno) (1.20.1)\n",
      "Requirement already satisfied: scipy in c:\\users\\chris mcgee\\anaconda3\\lib\\site-packages (from missingno) (1.6.2)\n",
      "Requirement already satisfied: seaborn in c:\\users\\chris mcgee\\anaconda3\\lib\\site-packages (from missingno) (0.11.1)\n",
      "Requirement already satisfied: cycler>=0.10 in c:\\users\\chris mcgee\\anaconda3\\lib\\site-packages (from matplotlib->missingno) (0.10.0)\n",
      "Requirement already satisfied: kiwisolver>=1.0.1 in c:\\users\\chris mcgee\\anaconda3\\lib\\site-packages (from matplotlib->missingno) (1.3.1)\n",
      "Requirement already satisfied: pyparsing!=2.0.4,!=2.1.2,!=2.1.6,>=2.0.3 in c:\\users\\chris mcgee\\anaconda3\\lib\\site-packages (from matplotlib->missingno) (2.4.7)\n",
      "Requirement already satisfied: python-dateutil>=2.1 in c:\\users\\chris mcgee\\anaconda3\\lib\\site-packages (from matplotlib->missingno) (2.8.1)\n",
      "Requirement already satisfied: pillow>=6.2.0 in c:\\users\\chris mcgee\\anaconda3\\lib\\site-packages (from matplotlib->missingno) (8.2.0)\n",
      "Requirement already satisfied: six in c:\\users\\chris mcgee\\anaconda3\\lib\\site-packages (from cycler>=0.10->matplotlib->missingno) (1.15.0)\n",
      "Requirement already satisfied: pandas>=0.23 in c:\\users\\chris mcgee\\anaconda3\\lib\\site-packages (from seaborn->missingno) (1.2.4)\n",
      "Requirement already satisfied: pytz>=2017.3 in c:\\users\\chris mcgee\\anaconda3\\lib\\site-packages (from pandas>=0.23->seaborn->missingno) (2021.1)\n",
      "Requirement already satisfied: six in c:\\users\\chris mcgee\\anaconda3\\lib\\site-packages (1.15.0)\n",
      "Requirement already satisfied: pydotplus in c:\\users\\chris mcgee\\anaconda3\\lib\\site-packages (2.0.2)\n",
      "Requirement already satisfied: pyparsing>=2.0.1 in c:\\users\\chris mcgee\\anaconda3\\lib\\site-packages (from pydotplus) (2.4.7)\n",
      "Requirement already satisfied: graphviz in c:\\users\\chris mcgee\\anaconda3\\lib\\site-packages (0.19)\n"
     ]
    }
   ],
   "source": [
    "#1. Install necessary packages\n",
    "\n",
    "# Install necessary packages\n",
    "!pip install pandas\n",
    "!pip install numpy\n",
    "!pip install scipy\n",
    "!pip install sklearn\n",
    "!pip install matplotlib\n",
    "!pip install sns\n",
    "!pip install plotly\n",
    "!pip install missingno\n",
    "!pip install six\n",
    "!pip install pydotplus\n",
    "!pip install graphviz \n",
    "\n",
    "#I installed all the packages I think I may need for this assignment. I may not use all of these."
   ]
  },
  {
   "cell_type": "code",
   "execution_count": 2,
   "id": "c5dd838d",
   "metadata": {},
   "outputs": [],
   "source": [
    "# Ignor warning error\n",
    "import warnings\n",
    "warnings.filterwarnings('ignore')\n",
    "\n",
    "# Standard imports\n",
    "import os\n",
    "import sys\n",
    "import pandas as pd\n",
    "from pandas import Series, DataFrame\n",
    "import numpy as np\n",
    "import matplotlib.pyplot as plt\n",
    "import matplotlib.mlab as mlab\n",
    "import seaborn as sns\n",
    "from plotly.subplots import make_subplots\n",
    "import plotly.graph_objs as go\n",
    "import missingno as msno\n",
    "#for encoding\n",
    "%matplotlib inline \n",
    "\n",
    "\n",
    "# Scipy\n",
    "from scipy.cluster.vq import kmeans, vq\n",
    "\n",
    "# Import Scikit-learn \n",
    "import sklearn\n",
    "from sklearn import preprocessing\n",
    "from sklearn.neighbors import KNeighborsClassifier\n",
    "from sklearn.model_selection import train_test_split\n",
    "from sklearn.preprocessing import MinMaxScaler\n"
   ]
  },
  {
   "cell_type": "code",
   "execution_count": 3,
   "id": "adcc0db0",
   "metadata": {},
   "outputs": [],
   "source": [
    "#2. Read and check the data set in Python using Pandas' read_csv command\n",
    "path = 'medical_clean.csv'\n",
    "medical_df_clean = pd.read_csv(path)"
   ]
  },
  {
   "cell_type": "code",
   "execution_count": 4,
   "id": "bed819bc",
   "metadata": {},
   "outputs": [
    {
     "data": {
      "text/html": [
       "<div>\n",
       "<style scoped>\n",
       "    .dataframe tbody tr th:only-of-type {\n",
       "        vertical-align: middle;\n",
       "    }\n",
       "\n",
       "    .dataframe tbody tr th {\n",
       "        vertical-align: top;\n",
       "    }\n",
       "\n",
       "    .dataframe thead th {\n",
       "        text-align: right;\n",
       "    }\n",
       "</style>\n",
       "<table border=\"1\" class=\"dataframe\">\n",
       "  <thead>\n",
       "    <tr style=\"text-align: right;\">\n",
       "      <th></th>\n",
       "      <th>CaseOrder</th>\n",
       "      <th>Customer_id</th>\n",
       "      <th>Interaction</th>\n",
       "      <th>UID</th>\n",
       "      <th>City</th>\n",
       "      <th>State</th>\n",
       "      <th>County</th>\n",
       "      <th>Zip</th>\n",
       "      <th>Lat</th>\n",
       "      <th>Lng</th>\n",
       "      <th>...</th>\n",
       "      <th>TotalCharge</th>\n",
       "      <th>Additional_charges</th>\n",
       "      <th>Item1</th>\n",
       "      <th>Item2</th>\n",
       "      <th>Item3</th>\n",
       "      <th>Item4</th>\n",
       "      <th>Item5</th>\n",
       "      <th>Item6</th>\n",
       "      <th>Item7</th>\n",
       "      <th>Item8</th>\n",
       "    </tr>\n",
       "  </thead>\n",
       "  <tbody>\n",
       "    <tr>\n",
       "      <th>0</th>\n",
       "      <td>1</td>\n",
       "      <td>C412403</td>\n",
       "      <td>8cd49b13-f45a-4b47-a2bd-173ffa932c2f</td>\n",
       "      <td>3a83ddb66e2ae73798bdf1d705dc0932</td>\n",
       "      <td>Eva</td>\n",
       "      <td>AL</td>\n",
       "      <td>Morgan</td>\n",
       "      <td>35621</td>\n",
       "      <td>34.34960</td>\n",
       "      <td>-86.72508</td>\n",
       "      <td>...</td>\n",
       "      <td>3726.702860</td>\n",
       "      <td>17939.403420</td>\n",
       "      <td>3</td>\n",
       "      <td>3</td>\n",
       "      <td>2</td>\n",
       "      <td>2</td>\n",
       "      <td>4</td>\n",
       "      <td>3</td>\n",
       "      <td>3</td>\n",
       "      <td>4</td>\n",
       "    </tr>\n",
       "    <tr>\n",
       "      <th>1</th>\n",
       "      <td>2</td>\n",
       "      <td>Z919181</td>\n",
       "      <td>d2450b70-0337-4406-bdbb-bc1037f1734c</td>\n",
       "      <td>176354c5eef714957d486009feabf195</td>\n",
       "      <td>Marianna</td>\n",
       "      <td>FL</td>\n",
       "      <td>Jackson</td>\n",
       "      <td>32446</td>\n",
       "      <td>30.84513</td>\n",
       "      <td>-85.22907</td>\n",
       "      <td>...</td>\n",
       "      <td>4193.190458</td>\n",
       "      <td>17612.998120</td>\n",
       "      <td>3</td>\n",
       "      <td>4</td>\n",
       "      <td>3</td>\n",
       "      <td>4</td>\n",
       "      <td>4</td>\n",
       "      <td>4</td>\n",
       "      <td>3</td>\n",
       "      <td>3</td>\n",
       "    </tr>\n",
       "    <tr>\n",
       "      <th>2</th>\n",
       "      <td>3</td>\n",
       "      <td>F995323</td>\n",
       "      <td>a2057123-abf5-4a2c-abad-8ffe33512562</td>\n",
       "      <td>e19a0fa00aeda885b8a436757e889bc9</td>\n",
       "      <td>Sioux Falls</td>\n",
       "      <td>SD</td>\n",
       "      <td>Minnehaha</td>\n",
       "      <td>57110</td>\n",
       "      <td>43.54321</td>\n",
       "      <td>-96.63772</td>\n",
       "      <td>...</td>\n",
       "      <td>2434.234222</td>\n",
       "      <td>17505.192460</td>\n",
       "      <td>2</td>\n",
       "      <td>4</td>\n",
       "      <td>4</td>\n",
       "      <td>4</td>\n",
       "      <td>3</td>\n",
       "      <td>4</td>\n",
       "      <td>3</td>\n",
       "      <td>3</td>\n",
       "    </tr>\n",
       "    <tr>\n",
       "      <th>3</th>\n",
       "      <td>4</td>\n",
       "      <td>A879973</td>\n",
       "      <td>1dec528d-eb34-4079-adce-0d7a40e82205</td>\n",
       "      <td>cd17d7b6d152cb6f23957346d11c3f07</td>\n",
       "      <td>New Richland</td>\n",
       "      <td>MN</td>\n",
       "      <td>Waseca</td>\n",
       "      <td>56072</td>\n",
       "      <td>43.89744</td>\n",
       "      <td>-93.51479</td>\n",
       "      <td>...</td>\n",
       "      <td>2127.830423</td>\n",
       "      <td>12993.437350</td>\n",
       "      <td>3</td>\n",
       "      <td>5</td>\n",
       "      <td>5</td>\n",
       "      <td>3</td>\n",
       "      <td>4</td>\n",
       "      <td>5</td>\n",
       "      <td>5</td>\n",
       "      <td>5</td>\n",
       "    </tr>\n",
       "    <tr>\n",
       "      <th>4</th>\n",
       "      <td>5</td>\n",
       "      <td>C544523</td>\n",
       "      <td>5885f56b-d6da-43a3-8760-83583af94266</td>\n",
       "      <td>d2f0425877b10ed6bb381f3e2579424a</td>\n",
       "      <td>West Point</td>\n",
       "      <td>VA</td>\n",
       "      <td>King William</td>\n",
       "      <td>23181</td>\n",
       "      <td>37.59894</td>\n",
       "      <td>-76.88958</td>\n",
       "      <td>...</td>\n",
       "      <td>2113.073274</td>\n",
       "      <td>3716.525786</td>\n",
       "      <td>2</td>\n",
       "      <td>1</td>\n",
       "      <td>3</td>\n",
       "      <td>3</td>\n",
       "      <td>5</td>\n",
       "      <td>3</td>\n",
       "      <td>4</td>\n",
       "      <td>3</td>\n",
       "    </tr>\n",
       "  </tbody>\n",
       "</table>\n",
       "<p>5 rows × 50 columns</p>\n",
       "</div>"
      ],
      "text/plain": [
       "   CaseOrder Customer_id                           Interaction  \\\n",
       "0          1     C412403  8cd49b13-f45a-4b47-a2bd-173ffa932c2f   \n",
       "1          2     Z919181  d2450b70-0337-4406-bdbb-bc1037f1734c   \n",
       "2          3     F995323  a2057123-abf5-4a2c-abad-8ffe33512562   \n",
       "3          4     A879973  1dec528d-eb34-4079-adce-0d7a40e82205   \n",
       "4          5     C544523  5885f56b-d6da-43a3-8760-83583af94266   \n",
       "\n",
       "                                UID          City State        County    Zip  \\\n",
       "0  3a83ddb66e2ae73798bdf1d705dc0932           Eva    AL        Morgan  35621   \n",
       "1  176354c5eef714957d486009feabf195      Marianna    FL       Jackson  32446   \n",
       "2  e19a0fa00aeda885b8a436757e889bc9   Sioux Falls    SD     Minnehaha  57110   \n",
       "3  cd17d7b6d152cb6f23957346d11c3f07  New Richland    MN        Waseca  56072   \n",
       "4  d2f0425877b10ed6bb381f3e2579424a    West Point    VA  King William  23181   \n",
       "\n",
       "        Lat       Lng  ...  TotalCharge Additional_charges Item1 Item2  Item3  \\\n",
       "0  34.34960 -86.72508  ...  3726.702860       17939.403420     3     3      2   \n",
       "1  30.84513 -85.22907  ...  4193.190458       17612.998120     3     4      3   \n",
       "2  43.54321 -96.63772  ...  2434.234222       17505.192460     2     4      4   \n",
       "3  43.89744 -93.51479  ...  2127.830423       12993.437350     3     5      5   \n",
       "4  37.59894 -76.88958  ...  2113.073274        3716.525786     2     1      3   \n",
       "\n",
       "   Item4  Item5 Item6 Item7 Item8  \n",
       "0      2      4     3     3     4  \n",
       "1      4      4     4     3     3  \n",
       "2      4      3     4     3     3  \n",
       "3      3      4     5     5     5  \n",
       "4      3      5     3     4     3  \n",
       "\n",
       "[5 rows x 50 columns]"
      ]
     },
     "execution_count": 4,
     "metadata": {},
     "output_type": "execute_result"
    }
   ],
   "source": [
    "#3.Display Medical dataframe\n",
    "medical_df = medical_df_clean.copy()\n",
    "medical_df.head()"
   ]
  },
  {
   "cell_type": "code",
   "execution_count": 5,
   "id": "7861545d",
   "metadata": {},
   "outputs": [
    {
     "data": {
      "text/plain": [
       "(10000, 50)"
      ]
     },
     "execution_count": 5,
     "metadata": {},
     "output_type": "execute_result"
    }
   ],
   "source": [
    "#4. Evaluate the data structure to understand input data better\n",
    "\n",
    "# Dataset size\n",
    "medical_df.shape"
   ]
  },
  {
   "cell_type": "code",
   "execution_count": 6,
   "id": "80760cd0",
   "metadata": {},
   "outputs": [
    {
     "name": "stdout",
     "output_type": "stream",
     "text": [
      "Non-Numeric columns:\n",
      "Customer_id\n",
      "Interaction\n",
      "UID\n",
      "City\n",
      "State\n",
      "County\n",
      "Area\n",
      "TimeZone\n",
      "Job\n",
      "Marital\n",
      "Gender\n",
      "ReAdmis\n",
      "Soft_drink\n",
      "Initial_admin\n",
      "HighBlood\n",
      "Stroke\n",
      "Complication_risk\n",
      "Overweight\n",
      "Arthritis\n",
      "Diabetes\n",
      "Hyperlipidemia\n",
      "BackPain\n",
      "Anxiety\n",
      "Allergic_rhinitis\n",
      "Reflux_esophagitis\n",
      "Asthma\n",
      "Services\n",
      "\n",
      "Numeric columns:\n",
      "CaseOrder\n",
      "Zip\n",
      "Lat\n",
      "Lng\n",
      "Population\n",
      "Children\n",
      "Age\n",
      "Income\n",
      "VitD_levels\n",
      "Doc_visits\n",
      "Full_meals_eaten\n",
      "vitD_supp\n",
      "Initial_days\n",
      "TotalCharge\n",
      "Additional_charges\n",
      "Item1\n",
      "Item2\n",
      "Item3\n",
      "Item4\n",
      "Item5\n",
      "Item6\n",
      "Item7\n",
      "Item8\n"
     ]
    }
   ],
   "source": [
    "#Check numerical and categorical data\n",
    "# check numerical and categorical data\n",
    "cat_df = medical_df.select_dtypes(include=['object'])\n",
    "num_df = medical_df.select_dtypes(exclude=['object'])\n",
    "\n",
    "def printColumnTypes(non_numeric_df, numeric_df):\n",
    "    '''separates non-numeric and numeric columns'''\n",
    "    print(\"Non-Numeric columns:\")\n",
    "    for col in non_numeric_df:\n",
    "        print(f\"{col}\")\n",
    "    print(\"\")\n",
    "    print(\"Numeric columns:\")\n",
    "    for col in numeric_df:\n",
    "        \n",
    "        print(f\"{col}\")\n",
    "        \n",
    "printColumnTypes(cat_df, num_df)"
   ]
  },
  {
   "cell_type": "code",
   "execution_count": 7,
   "id": "53bb4b0b",
   "metadata": {},
   "outputs": [
    {
     "name": "stdout",
     "output_type": "stream",
     "text": [
      "<class 'pandas.core.frame.DataFrame'>\n",
      "RangeIndex: 10000 entries, 0 to 9999\n",
      "Data columns (total 50 columns):\n",
      " #   Column              Non-Null Count  Dtype  \n",
      "---  ------              --------------  -----  \n",
      " 0   CaseOrder           10000 non-null  int64  \n",
      " 1   Customer_id         10000 non-null  object \n",
      " 2   Interaction         10000 non-null  object \n",
      " 3   UID                 10000 non-null  object \n",
      " 4   City                10000 non-null  object \n",
      " 5   State               10000 non-null  object \n",
      " 6   County              10000 non-null  object \n",
      " 7   Zip                 10000 non-null  int64  \n",
      " 8   Lat                 10000 non-null  float64\n",
      " 9   Lng                 10000 non-null  float64\n",
      " 10  Population          10000 non-null  int64  \n",
      " 11  Area                10000 non-null  object \n",
      " 12  TimeZone            10000 non-null  object \n",
      " 13  Job                 10000 non-null  object \n",
      " 14  Children            10000 non-null  int64  \n",
      " 15  Age                 10000 non-null  int64  \n",
      " 16  Income              10000 non-null  float64\n",
      " 17  Marital             10000 non-null  object \n",
      " 18  Gender              10000 non-null  object \n",
      " 19  ReAdmis             10000 non-null  object \n",
      " 20  VitD_levels         10000 non-null  float64\n",
      " 21  Doc_visits          10000 non-null  int64  \n",
      " 22  Full_meals_eaten    10000 non-null  int64  \n",
      " 23  vitD_supp           10000 non-null  int64  \n",
      " 24  Soft_drink          10000 non-null  object \n",
      " 25  Initial_admin       10000 non-null  object \n",
      " 26  HighBlood           10000 non-null  object \n",
      " 27  Stroke              10000 non-null  object \n",
      " 28  Complication_risk   10000 non-null  object \n",
      " 29  Overweight          10000 non-null  object \n",
      " 30  Arthritis           10000 non-null  object \n",
      " 31  Diabetes            10000 non-null  object \n",
      " 32  Hyperlipidemia      10000 non-null  object \n",
      " 33  BackPain            10000 non-null  object \n",
      " 34  Anxiety             10000 non-null  object \n",
      " 35  Allergic_rhinitis   10000 non-null  object \n",
      " 36  Reflux_esophagitis  10000 non-null  object \n",
      " 37  Asthma              10000 non-null  object \n",
      " 38  Services            10000 non-null  object \n",
      " 39  Initial_days        10000 non-null  float64\n",
      " 40  TotalCharge         10000 non-null  float64\n",
      " 41  Additional_charges  10000 non-null  float64\n",
      " 42  Item1               10000 non-null  int64  \n",
      " 43  Item2               10000 non-null  int64  \n",
      " 44  Item3               10000 non-null  int64  \n",
      " 45  Item4               10000 non-null  int64  \n",
      " 46  Item5               10000 non-null  int64  \n",
      " 47  Item6               10000 non-null  int64  \n",
      " 48  Item7               10000 non-null  int64  \n",
      " 49  Item8               10000 non-null  int64  \n",
      "dtypes: float64(7), int64(16), object(27)\n",
      "memory usage: 3.8+ MB\n"
     ]
    }
   ],
   "source": [
    "# Check the information of data\n",
    "medical_df.info()"
   ]
  },
  {
   "cell_type": "code",
   "execution_count": 8,
   "id": "54527b59",
   "metadata": {},
   "outputs": [
    {
     "data": {
      "text/html": [
       "<div>\n",
       "<style scoped>\n",
       "    .dataframe tbody tr th:only-of-type {\n",
       "        vertical-align: middle;\n",
       "    }\n",
       "\n",
       "    .dataframe tbody tr th {\n",
       "        vertical-align: top;\n",
       "    }\n",
       "\n",
       "    .dataframe thead th {\n",
       "        text-align: right;\n",
       "    }\n",
       "</style>\n",
       "<table border=\"1\" class=\"dataframe\">\n",
       "  <thead>\n",
       "    <tr style=\"text-align: right;\">\n",
       "      <th></th>\n",
       "      <th>CaseOrder</th>\n",
       "      <th>Zip</th>\n",
       "      <th>Lat</th>\n",
       "      <th>Lng</th>\n",
       "      <th>Population</th>\n",
       "      <th>Children</th>\n",
       "      <th>Age</th>\n",
       "      <th>Income</th>\n",
       "      <th>VitD_levels</th>\n",
       "      <th>Doc_visits</th>\n",
       "      <th>...</th>\n",
       "      <th>TotalCharge</th>\n",
       "      <th>Additional_charges</th>\n",
       "      <th>Item1</th>\n",
       "      <th>Item2</th>\n",
       "      <th>Item3</th>\n",
       "      <th>Item4</th>\n",
       "      <th>Item5</th>\n",
       "      <th>Item6</th>\n",
       "      <th>Item7</th>\n",
       "      <th>Item8</th>\n",
       "    </tr>\n",
       "  </thead>\n",
       "  <tbody>\n",
       "    <tr>\n",
       "      <th>count</th>\n",
       "      <td>10000.00000</td>\n",
       "      <td>10000.000000</td>\n",
       "      <td>10000.000000</td>\n",
       "      <td>10000.000000</td>\n",
       "      <td>10000.000000</td>\n",
       "      <td>10000.000000</td>\n",
       "      <td>10000.000000</td>\n",
       "      <td>10000.000000</td>\n",
       "      <td>10000.000000</td>\n",
       "      <td>10000.000000</td>\n",
       "      <td>...</td>\n",
       "      <td>10000.000000</td>\n",
       "      <td>10000.000000</td>\n",
       "      <td>10000.000000</td>\n",
       "      <td>10000.000000</td>\n",
       "      <td>10000.000000</td>\n",
       "      <td>10000.000000</td>\n",
       "      <td>10000.000000</td>\n",
       "      <td>10000.000000</td>\n",
       "      <td>10000.000000</td>\n",
       "      <td>10000.000000</td>\n",
       "    </tr>\n",
       "    <tr>\n",
       "      <th>mean</th>\n",
       "      <td>5000.50000</td>\n",
       "      <td>50159.323900</td>\n",
       "      <td>38.751099</td>\n",
       "      <td>-91.243080</td>\n",
       "      <td>9965.253800</td>\n",
       "      <td>2.097200</td>\n",
       "      <td>53.511700</td>\n",
       "      <td>40490.495160</td>\n",
       "      <td>17.964262</td>\n",
       "      <td>5.012200</td>\n",
       "      <td>...</td>\n",
       "      <td>5312.172769</td>\n",
       "      <td>12934.528587</td>\n",
       "      <td>3.518800</td>\n",
       "      <td>3.506700</td>\n",
       "      <td>3.511100</td>\n",
       "      <td>3.515100</td>\n",
       "      <td>3.496900</td>\n",
       "      <td>3.522500</td>\n",
       "      <td>3.494000</td>\n",
       "      <td>3.509700</td>\n",
       "    </tr>\n",
       "    <tr>\n",
       "      <th>std</th>\n",
       "      <td>2886.89568</td>\n",
       "      <td>27469.588208</td>\n",
       "      <td>5.403085</td>\n",
       "      <td>15.205998</td>\n",
       "      <td>14824.758614</td>\n",
       "      <td>2.163659</td>\n",
       "      <td>20.638538</td>\n",
       "      <td>28521.153293</td>\n",
       "      <td>2.017231</td>\n",
       "      <td>1.045734</td>\n",
       "      <td>...</td>\n",
       "      <td>2180.393838</td>\n",
       "      <td>6542.601544</td>\n",
       "      <td>1.031966</td>\n",
       "      <td>1.034825</td>\n",
       "      <td>1.032755</td>\n",
       "      <td>1.036282</td>\n",
       "      <td>1.030192</td>\n",
       "      <td>1.032376</td>\n",
       "      <td>1.021405</td>\n",
       "      <td>1.042312</td>\n",
       "    </tr>\n",
       "    <tr>\n",
       "      <th>min</th>\n",
       "      <td>1.00000</td>\n",
       "      <td>610.000000</td>\n",
       "      <td>17.967190</td>\n",
       "      <td>-174.209700</td>\n",
       "      <td>0.000000</td>\n",
       "      <td>0.000000</td>\n",
       "      <td>18.000000</td>\n",
       "      <td>154.080000</td>\n",
       "      <td>9.806483</td>\n",
       "      <td>1.000000</td>\n",
       "      <td>...</td>\n",
       "      <td>1938.312067</td>\n",
       "      <td>3125.703000</td>\n",
       "      <td>1.000000</td>\n",
       "      <td>1.000000</td>\n",
       "      <td>1.000000</td>\n",
       "      <td>1.000000</td>\n",
       "      <td>1.000000</td>\n",
       "      <td>1.000000</td>\n",
       "      <td>1.000000</td>\n",
       "      <td>1.000000</td>\n",
       "    </tr>\n",
       "    <tr>\n",
       "      <th>25%</th>\n",
       "      <td>2500.75000</td>\n",
       "      <td>27592.000000</td>\n",
       "      <td>35.255120</td>\n",
       "      <td>-97.352982</td>\n",
       "      <td>694.750000</td>\n",
       "      <td>0.000000</td>\n",
       "      <td>36.000000</td>\n",
       "      <td>19598.775000</td>\n",
       "      <td>16.626439</td>\n",
       "      <td>4.000000</td>\n",
       "      <td>...</td>\n",
       "      <td>3179.374015</td>\n",
       "      <td>7986.487755</td>\n",
       "      <td>3.000000</td>\n",
       "      <td>3.000000</td>\n",
       "      <td>3.000000</td>\n",
       "      <td>3.000000</td>\n",
       "      <td>3.000000</td>\n",
       "      <td>3.000000</td>\n",
       "      <td>3.000000</td>\n",
       "      <td>3.000000</td>\n",
       "    </tr>\n",
       "    <tr>\n",
       "      <th>50%</th>\n",
       "      <td>5000.50000</td>\n",
       "      <td>50207.000000</td>\n",
       "      <td>39.419355</td>\n",
       "      <td>-88.397230</td>\n",
       "      <td>2769.000000</td>\n",
       "      <td>1.000000</td>\n",
       "      <td>53.000000</td>\n",
       "      <td>33768.420000</td>\n",
       "      <td>17.951122</td>\n",
       "      <td>5.000000</td>\n",
       "      <td>...</td>\n",
       "      <td>5213.952000</td>\n",
       "      <td>11573.977735</td>\n",
       "      <td>4.000000</td>\n",
       "      <td>3.000000</td>\n",
       "      <td>4.000000</td>\n",
       "      <td>4.000000</td>\n",
       "      <td>3.000000</td>\n",
       "      <td>4.000000</td>\n",
       "      <td>3.000000</td>\n",
       "      <td>3.000000</td>\n",
       "    </tr>\n",
       "    <tr>\n",
       "      <th>75%</th>\n",
       "      <td>7500.25000</td>\n",
       "      <td>72411.750000</td>\n",
       "      <td>42.044175</td>\n",
       "      <td>-80.438050</td>\n",
       "      <td>13945.000000</td>\n",
       "      <td>3.000000</td>\n",
       "      <td>71.000000</td>\n",
       "      <td>54296.402500</td>\n",
       "      <td>19.347963</td>\n",
       "      <td>6.000000</td>\n",
       "      <td>...</td>\n",
       "      <td>7459.699750</td>\n",
       "      <td>15626.490000</td>\n",
       "      <td>4.000000</td>\n",
       "      <td>4.000000</td>\n",
       "      <td>4.000000</td>\n",
       "      <td>4.000000</td>\n",
       "      <td>4.000000</td>\n",
       "      <td>4.000000</td>\n",
       "      <td>4.000000</td>\n",
       "      <td>4.000000</td>\n",
       "    </tr>\n",
       "    <tr>\n",
       "      <th>max</th>\n",
       "      <td>10000.00000</td>\n",
       "      <td>99929.000000</td>\n",
       "      <td>70.560990</td>\n",
       "      <td>-65.290170</td>\n",
       "      <td>122814.000000</td>\n",
       "      <td>10.000000</td>\n",
       "      <td>89.000000</td>\n",
       "      <td>207249.100000</td>\n",
       "      <td>26.394449</td>\n",
       "      <td>9.000000</td>\n",
       "      <td>...</td>\n",
       "      <td>9180.728000</td>\n",
       "      <td>30566.070000</td>\n",
       "      <td>8.000000</td>\n",
       "      <td>7.000000</td>\n",
       "      <td>8.000000</td>\n",
       "      <td>7.000000</td>\n",
       "      <td>7.000000</td>\n",
       "      <td>7.000000</td>\n",
       "      <td>7.000000</td>\n",
       "      <td>7.000000</td>\n",
       "    </tr>\n",
       "  </tbody>\n",
       "</table>\n",
       "<p>8 rows × 23 columns</p>\n",
       "</div>"
      ],
      "text/plain": [
       "         CaseOrder           Zip           Lat           Lng     Population  \\\n",
       "count  10000.00000  10000.000000  10000.000000  10000.000000   10000.000000   \n",
       "mean    5000.50000  50159.323900     38.751099    -91.243080    9965.253800   \n",
       "std     2886.89568  27469.588208      5.403085     15.205998   14824.758614   \n",
       "min        1.00000    610.000000     17.967190   -174.209700       0.000000   \n",
       "25%     2500.75000  27592.000000     35.255120    -97.352982     694.750000   \n",
       "50%     5000.50000  50207.000000     39.419355    -88.397230    2769.000000   \n",
       "75%     7500.25000  72411.750000     42.044175    -80.438050   13945.000000   \n",
       "max    10000.00000  99929.000000     70.560990    -65.290170  122814.000000   \n",
       "\n",
       "           Children           Age         Income   VitD_levels    Doc_visits  \\\n",
       "count  10000.000000  10000.000000   10000.000000  10000.000000  10000.000000   \n",
       "mean       2.097200     53.511700   40490.495160     17.964262      5.012200   \n",
       "std        2.163659     20.638538   28521.153293      2.017231      1.045734   \n",
       "min        0.000000     18.000000     154.080000      9.806483      1.000000   \n",
       "25%        0.000000     36.000000   19598.775000     16.626439      4.000000   \n",
       "50%        1.000000     53.000000   33768.420000     17.951122      5.000000   \n",
       "75%        3.000000     71.000000   54296.402500     19.347963      6.000000   \n",
       "max       10.000000     89.000000  207249.100000     26.394449      9.000000   \n",
       "\n",
       "       ...   TotalCharge  Additional_charges         Item1         Item2  \\\n",
       "count  ...  10000.000000        10000.000000  10000.000000  10000.000000   \n",
       "mean   ...   5312.172769        12934.528587      3.518800      3.506700   \n",
       "std    ...   2180.393838         6542.601544      1.031966      1.034825   \n",
       "min    ...   1938.312067         3125.703000      1.000000      1.000000   \n",
       "25%    ...   3179.374015         7986.487755      3.000000      3.000000   \n",
       "50%    ...   5213.952000        11573.977735      4.000000      3.000000   \n",
       "75%    ...   7459.699750        15626.490000      4.000000      4.000000   \n",
       "max    ...   9180.728000        30566.070000      8.000000      7.000000   \n",
       "\n",
       "              Item3         Item4         Item5         Item6         Item7  \\\n",
       "count  10000.000000  10000.000000  10000.000000  10000.000000  10000.000000   \n",
       "mean       3.511100      3.515100      3.496900      3.522500      3.494000   \n",
       "std        1.032755      1.036282      1.030192      1.032376      1.021405   \n",
       "min        1.000000      1.000000      1.000000      1.000000      1.000000   \n",
       "25%        3.000000      3.000000      3.000000      3.000000      3.000000   \n",
       "50%        4.000000      4.000000      3.000000      4.000000      3.000000   \n",
       "75%        4.000000      4.000000      4.000000      4.000000      4.000000   \n",
       "max        8.000000      7.000000      7.000000      7.000000      7.000000   \n",
       "\n",
       "              Item8  \n",
       "count  10000.000000  \n",
       "mean       3.509700  \n",
       "std        1.042312  \n",
       "min        1.000000  \n",
       "25%        3.000000  \n",
       "50%        3.000000  \n",
       "75%        4.000000  \n",
       "max        7.000000  \n",
       "\n",
       "[8 rows x 23 columns]"
      ]
     },
     "execution_count": 8,
     "metadata": {},
     "output_type": "execute_result"
    }
   ],
   "source": [
    "# Describe Churn dataset statistics\n",
    "medical_df.describe()"
   ]
  },
  {
   "cell_type": "code",
   "execution_count": 9,
   "id": "bdb6a4cd",
   "metadata": {},
   "outputs": [],
   "source": [
    "#5. Drop the original categorical and less meaningful variables\n",
    "medical_df = medical_df.drop(columns=['CaseOrder','Customer_id','Job', 'Interaction','UID','City','State','County','Zip',\n",
    "                                      'Lat','Lng','Population','Area','TimeZone'])\n"
   ]
  },
  {
   "cell_type": "code",
   "execution_count": 10,
   "id": "a019e79e",
   "metadata": {},
   "outputs": [
    {
     "data": {
      "text/html": [
       "<div>\n",
       "<style scoped>\n",
       "    .dataframe tbody tr th:only-of-type {\n",
       "        vertical-align: middle;\n",
       "    }\n",
       "\n",
       "    .dataframe tbody tr th {\n",
       "        vertical-align: top;\n",
       "    }\n",
       "\n",
       "    .dataframe thead th {\n",
       "        text-align: right;\n",
       "    }\n",
       "</style>\n",
       "<table border=\"1\" class=\"dataframe\">\n",
       "  <thead>\n",
       "    <tr style=\"text-align: right;\">\n",
       "      <th></th>\n",
       "      <th>Children</th>\n",
       "      <th>Age</th>\n",
       "      <th>Income</th>\n",
       "      <th>VitD_levels</th>\n",
       "      <th>Doc_visits</th>\n",
       "      <th>Full_meals_eaten</th>\n",
       "      <th>vitD_supp</th>\n",
       "      <th>Initial_days</th>\n",
       "      <th>TotalCharge</th>\n",
       "      <th>Additional_charges</th>\n",
       "      <th>Survey_TimelyAdmission</th>\n",
       "      <th>Survey_TimelyTreatment</th>\n",
       "      <th>Survey_TimelyVisits</th>\n",
       "      <th>Survey_Reliability</th>\n",
       "      <th>Survey_Options</th>\n",
       "      <th>Survey_HoursTreatment</th>\n",
       "      <th>Survey_CourteousStaff</th>\n",
       "      <th>Survey_Listening</th>\n",
       "    </tr>\n",
       "  </thead>\n",
       "  <tbody>\n",
       "    <tr>\n",
       "      <th>count</th>\n",
       "      <td>10000.000000</td>\n",
       "      <td>10000.000000</td>\n",
       "      <td>10000.000000</td>\n",
       "      <td>10000.000000</td>\n",
       "      <td>10000.000000</td>\n",
       "      <td>10000.000000</td>\n",
       "      <td>10000.000000</td>\n",
       "      <td>10000.000000</td>\n",
       "      <td>10000.000000</td>\n",
       "      <td>10000.000000</td>\n",
       "      <td>10000.000000</td>\n",
       "      <td>10000.000000</td>\n",
       "      <td>10000.000000</td>\n",
       "      <td>10000.000000</td>\n",
       "      <td>10000.000000</td>\n",
       "      <td>10000.000000</td>\n",
       "      <td>10000.000000</td>\n",
       "      <td>10000.000000</td>\n",
       "    </tr>\n",
       "    <tr>\n",
       "      <th>mean</th>\n",
       "      <td>2.097200</td>\n",
       "      <td>53.511700</td>\n",
       "      <td>40490.495160</td>\n",
       "      <td>17.964262</td>\n",
       "      <td>5.012200</td>\n",
       "      <td>1.001400</td>\n",
       "      <td>0.398900</td>\n",
       "      <td>34.455299</td>\n",
       "      <td>5312.172769</td>\n",
       "      <td>12934.528587</td>\n",
       "      <td>3.518800</td>\n",
       "      <td>3.506700</td>\n",
       "      <td>3.511100</td>\n",
       "      <td>3.515100</td>\n",
       "      <td>3.496900</td>\n",
       "      <td>3.522500</td>\n",
       "      <td>3.494000</td>\n",
       "      <td>3.509700</td>\n",
       "    </tr>\n",
       "    <tr>\n",
       "      <th>std</th>\n",
       "      <td>2.163659</td>\n",
       "      <td>20.638538</td>\n",
       "      <td>28521.153293</td>\n",
       "      <td>2.017231</td>\n",
       "      <td>1.045734</td>\n",
       "      <td>1.008117</td>\n",
       "      <td>0.628505</td>\n",
       "      <td>26.309341</td>\n",
       "      <td>2180.393838</td>\n",
       "      <td>6542.601544</td>\n",
       "      <td>1.031966</td>\n",
       "      <td>1.034825</td>\n",
       "      <td>1.032755</td>\n",
       "      <td>1.036282</td>\n",
       "      <td>1.030192</td>\n",
       "      <td>1.032376</td>\n",
       "      <td>1.021405</td>\n",
       "      <td>1.042312</td>\n",
       "    </tr>\n",
       "    <tr>\n",
       "      <th>min</th>\n",
       "      <td>0.000000</td>\n",
       "      <td>18.000000</td>\n",
       "      <td>154.080000</td>\n",
       "      <td>9.806483</td>\n",
       "      <td>1.000000</td>\n",
       "      <td>0.000000</td>\n",
       "      <td>0.000000</td>\n",
       "      <td>1.001981</td>\n",
       "      <td>1938.312067</td>\n",
       "      <td>3125.703000</td>\n",
       "      <td>1.000000</td>\n",
       "      <td>1.000000</td>\n",
       "      <td>1.000000</td>\n",
       "      <td>1.000000</td>\n",
       "      <td>1.000000</td>\n",
       "      <td>1.000000</td>\n",
       "      <td>1.000000</td>\n",
       "      <td>1.000000</td>\n",
       "    </tr>\n",
       "    <tr>\n",
       "      <th>25%</th>\n",
       "      <td>0.000000</td>\n",
       "      <td>36.000000</td>\n",
       "      <td>19598.775000</td>\n",
       "      <td>16.626439</td>\n",
       "      <td>4.000000</td>\n",
       "      <td>0.000000</td>\n",
       "      <td>0.000000</td>\n",
       "      <td>7.896215</td>\n",
       "      <td>3179.374015</td>\n",
       "      <td>7986.487755</td>\n",
       "      <td>3.000000</td>\n",
       "      <td>3.000000</td>\n",
       "      <td>3.000000</td>\n",
       "      <td>3.000000</td>\n",
       "      <td>3.000000</td>\n",
       "      <td>3.000000</td>\n",
       "      <td>3.000000</td>\n",
       "      <td>3.000000</td>\n",
       "    </tr>\n",
       "    <tr>\n",
       "      <th>50%</th>\n",
       "      <td>1.000000</td>\n",
       "      <td>53.000000</td>\n",
       "      <td>33768.420000</td>\n",
       "      <td>17.951122</td>\n",
       "      <td>5.000000</td>\n",
       "      <td>1.000000</td>\n",
       "      <td>0.000000</td>\n",
       "      <td>35.836244</td>\n",
       "      <td>5213.952000</td>\n",
       "      <td>11573.977735</td>\n",
       "      <td>4.000000</td>\n",
       "      <td>3.000000</td>\n",
       "      <td>4.000000</td>\n",
       "      <td>4.000000</td>\n",
       "      <td>3.000000</td>\n",
       "      <td>4.000000</td>\n",
       "      <td>3.000000</td>\n",
       "      <td>3.000000</td>\n",
       "    </tr>\n",
       "    <tr>\n",
       "      <th>75%</th>\n",
       "      <td>3.000000</td>\n",
       "      <td>71.000000</td>\n",
       "      <td>54296.402500</td>\n",
       "      <td>19.347963</td>\n",
       "      <td>6.000000</td>\n",
       "      <td>2.000000</td>\n",
       "      <td>1.000000</td>\n",
       "      <td>61.161020</td>\n",
       "      <td>7459.699750</td>\n",
       "      <td>15626.490000</td>\n",
       "      <td>4.000000</td>\n",
       "      <td>4.000000</td>\n",
       "      <td>4.000000</td>\n",
       "      <td>4.000000</td>\n",
       "      <td>4.000000</td>\n",
       "      <td>4.000000</td>\n",
       "      <td>4.000000</td>\n",
       "      <td>4.000000</td>\n",
       "    </tr>\n",
       "    <tr>\n",
       "      <th>max</th>\n",
       "      <td>10.000000</td>\n",
       "      <td>89.000000</td>\n",
       "      <td>207249.100000</td>\n",
       "      <td>26.394449</td>\n",
       "      <td>9.000000</td>\n",
       "      <td>7.000000</td>\n",
       "      <td>5.000000</td>\n",
       "      <td>71.981490</td>\n",
       "      <td>9180.728000</td>\n",
       "      <td>30566.070000</td>\n",
       "      <td>8.000000</td>\n",
       "      <td>7.000000</td>\n",
       "      <td>8.000000</td>\n",
       "      <td>7.000000</td>\n",
       "      <td>7.000000</td>\n",
       "      <td>7.000000</td>\n",
       "      <td>7.000000</td>\n",
       "      <td>7.000000</td>\n",
       "    </tr>\n",
       "  </tbody>\n",
       "</table>\n",
       "</div>"
      ],
      "text/plain": [
       "           Children           Age         Income   VitD_levels    Doc_visits  \\\n",
       "count  10000.000000  10000.000000   10000.000000  10000.000000  10000.000000   \n",
       "mean       2.097200     53.511700   40490.495160     17.964262      5.012200   \n",
       "std        2.163659     20.638538   28521.153293      2.017231      1.045734   \n",
       "min        0.000000     18.000000     154.080000      9.806483      1.000000   \n",
       "25%        0.000000     36.000000   19598.775000     16.626439      4.000000   \n",
       "50%        1.000000     53.000000   33768.420000     17.951122      5.000000   \n",
       "75%        3.000000     71.000000   54296.402500     19.347963      6.000000   \n",
       "max       10.000000     89.000000  207249.100000     26.394449      9.000000   \n",
       "\n",
       "       Full_meals_eaten     vitD_supp  Initial_days   TotalCharge  \\\n",
       "count      10000.000000  10000.000000  10000.000000  10000.000000   \n",
       "mean           1.001400      0.398900     34.455299   5312.172769   \n",
       "std            1.008117      0.628505     26.309341   2180.393838   \n",
       "min            0.000000      0.000000      1.001981   1938.312067   \n",
       "25%            0.000000      0.000000      7.896215   3179.374015   \n",
       "50%            1.000000      0.000000     35.836244   5213.952000   \n",
       "75%            2.000000      1.000000     61.161020   7459.699750   \n",
       "max            7.000000      5.000000     71.981490   9180.728000   \n",
       "\n",
       "       Additional_charges  Survey_TimelyAdmission  Survey_TimelyTreatment  \\\n",
       "count        10000.000000            10000.000000            10000.000000   \n",
       "mean         12934.528587                3.518800                3.506700   \n",
       "std           6542.601544                1.031966                1.034825   \n",
       "min           3125.703000                1.000000                1.000000   \n",
       "25%           7986.487755                3.000000                3.000000   \n",
       "50%          11573.977735                4.000000                3.000000   \n",
       "75%          15626.490000                4.000000                4.000000   \n",
       "max          30566.070000                8.000000                7.000000   \n",
       "\n",
       "       Survey_TimelyVisits  Survey_Reliability  Survey_Options  \\\n",
       "count         10000.000000        10000.000000    10000.000000   \n",
       "mean              3.511100            3.515100        3.496900   \n",
       "std               1.032755            1.036282        1.030192   \n",
       "min               1.000000            1.000000        1.000000   \n",
       "25%               3.000000            3.000000        3.000000   \n",
       "50%               4.000000            4.000000        3.000000   \n",
       "75%               4.000000            4.000000        4.000000   \n",
       "max               8.000000            7.000000        7.000000   \n",
       "\n",
       "       Survey_HoursTreatment  Survey_CourteousStaff  Survey_Listening  \n",
       "count           10000.000000           10000.000000      10000.000000  \n",
       "mean                3.522500               3.494000          3.509700  \n",
       "std                 1.032376               1.021405          1.042312  \n",
       "min                 1.000000               1.000000          1.000000  \n",
       "25%                 3.000000               3.000000          3.000000  \n",
       "50%                 4.000000               3.000000          3.000000  \n",
       "75%                 4.000000               4.000000          4.000000  \n",
       "max                 7.000000               7.000000          7.000000  "
      ]
     },
     "execution_count": 10,
     "metadata": {},
     "output_type": "execute_result"
    }
   ],
   "source": [
    "# Rename last 8 survey columns for better description of variables\n",
    "medical_df.rename(columns = {'Item1':'Survey_TimelyAdmission',\n",
    "'Item2':'Survey_TimelyTreatment',\n",
    "'Item3':'Survey_TimelyVisits',\n",
    "'Item4':'Survey_Reliability',\n",
    "'Item5':'Survey_Options',\n",
    "'Item6':'Survey_HoursTreatment',\n",
    "'Item7':'Survey_CourteousStaff',\n",
    "'Item8':'Survey_Listening'},\n",
    "inplace=True)\n",
    "\n",
    "medical_df.describe()"
   ]
  },
  {
   "cell_type": "code",
   "execution_count": 11,
   "id": "d07f0c35",
   "metadata": {},
   "outputs": [
    {
     "data": {
      "text/plain": [
       "{int64: ['Children', 'Age', 'Doc_visits', 'Full_meals_eaten', 'vitD_supp', 'Survey_TimelyAdmission', 'Survey_TimelyTreatment', 'Survey_TimelyVisits', 'Survey_Reliability', 'Survey_Options', 'Survey_HoursTreatment', 'Survey_CourteousStaff', 'Survey_Listening'], float64: ['Income', 'VitD_levels', 'Initial_days', 'TotalCharge', 'Additional_charges'], object: ['Marital', 'Gender', 'ReAdmis', 'Soft_drink', 'Initial_admin', 'HighBlood', 'Stroke', 'Complication_risk', 'Overweight', 'Arthritis', 'Diabetes', 'Hyperlipidemia', 'BackPain', 'Anxiety', 'Allergic_rhinitis', 'Reflux_esophagitis', 'Asthma', 'Services']}"
      ]
     },
     "execution_count": 11,
     "metadata": {},
     "output_type": "execute_result"
    }
   ],
   "source": [
    "#6. Re-validate column data types and missing value\n",
    "\n",
    "medical_df.columns.to_series().groupby(medical_df.dtypes).groups\n"
   ]
  },
  {
   "cell_type": "code",
   "execution_count": 12,
   "id": "b28ceedd",
   "metadata": {},
   "outputs": [
    {
     "name": "stdout",
     "output_type": "stream",
     "text": [
      "Children                  0\n",
      "Age                       0\n",
      "Income                    0\n",
      "Marital                   0\n",
      "Gender                    0\n",
      "ReAdmis                   0\n",
      "VitD_levels               0\n",
      "Doc_visits                0\n",
      "Full_meals_eaten          0\n",
      "vitD_supp                 0\n",
      "Soft_drink                0\n",
      "Initial_admin             0\n",
      "HighBlood                 0\n",
      "Stroke                    0\n",
      "Complication_risk         0\n",
      "Overweight                0\n",
      "Arthritis                 0\n",
      "Diabetes                  0\n",
      "Hyperlipidemia            0\n",
      "BackPain                  0\n",
      "Anxiety                   0\n",
      "Allergic_rhinitis         0\n",
      "Reflux_esophagitis        0\n",
      "Asthma                    0\n",
      "Services                  0\n",
      "Initial_days              0\n",
      "TotalCharge               0\n",
      "Additional_charges        0\n",
      "Survey_TimelyAdmission    0\n",
      "Survey_TimelyTreatment    0\n",
      "Survey_TimelyVisits       0\n",
      "Survey_Reliability        0\n",
      "Survey_Options            0\n",
      "Survey_HoursTreatment     0\n",
      "Survey_CourteousStaff     0\n",
      "Survey_Listening          0\n",
      "dtype: int64\n"
     ]
    }
   ],
   "source": [
    "# check null values\n",
    "df = medical_df\n",
    "data_nulls = df.isnull().sum()\n",
    "print(data_nulls)"
   ]
  },
  {
   "cell_type": "code",
   "execution_count": 13,
   "id": "0d22d87c",
   "metadata": {},
   "outputs": [
    {
     "name": "stdout",
     "output_type": "stream",
     "text": [
      "no missing values left\n"
     ]
    }
   ],
   "source": [
    "# check missing data and its size\n",
    "def missing_cols(medical_df):\n",
    "    '''prints out columns with its amount of missing values'''\n",
    "    total = 0\n",
    "    for col in medical_df.columns:\n",
    "        missing_vals = medical_df[col].isnull().sum()\n",
    "        total += missing_vals\n",
    "        if missing_vals != 0:\n",
    "            print(f\"{col} => {medical_df[col].isnull().sum()}\")\n",
    "    \n",
    "    if total == 0:\n",
    "        print(\"no missing values left\")\n",
    "            \n",
    "missing_cols(medical_df)"
   ]
  },
  {
   "cell_type": "code",
   "execution_count": 14,
   "id": "5b042ed7",
   "metadata": {},
   "outputs": [
    {
     "name": "stdout",
     "output_type": "stream",
     "text": [
      "Empty DataFrame\n",
      "Columns: [Children, Age, Income, Marital, Gender, ReAdmis, VitD_levels, Doc_visits, Full_meals_eaten, vitD_supp, Soft_drink, Initial_admin, HighBlood, Stroke, Complication_risk, Overweight, Arthritis, Diabetes, Hyperlipidemia, BackPain, Anxiety, Allergic_rhinitis, Reflux_esophagitis, Asthma, Services, Initial_days, TotalCharge, Additional_charges, Survey_TimelyAdmission, Survey_TimelyTreatment, Survey_TimelyVisits, Survey_Reliability, Survey_Options, Survey_HoursTreatment, Survey_CourteousStaff, Survey_Listening]\n",
      "Index: []\n",
      "\n",
      "[0 rows x 36 columns]\n"
     ]
    }
   ],
   "source": [
    "#7. Display any duplicate rows in the dataframe.\n",
    "data_duplicates = medical_df.loc[medical_df.duplicated()]\n",
    "print(data_duplicates)"
   ]
  },
  {
   "cell_type": "code",
   "execution_count": 15,
   "id": "0fd44a59",
   "metadata": {},
   "outputs": [],
   "source": [
    "#9. Categorical Encoding Values with multiple categories.\n",
    "cleanup_nums = {\"Initial_admin\":        {\"Emergency Admission\":     0, \n",
    "                                        \"Elective Admission\":       1 , \n",
    "                                        \"Observation Admission\":    2\n",
    "                                        },\n",
    "                \"Complication_risk\":    {\"High\":    0, \n",
    "                                        \"Medium\":   1, \n",
    "                                        \"Low\":      2\n",
    "                                        },\n",
    "                \"Services\":        {\"Blood Work\":       0, \n",
    "                                    \"Intravenous\":      1 , \n",
    "                                    \"CT Scan\":          2,\n",
    "                                    \"MRI\":              3\n",
    "                                    },\n",
    "               \"Gender\": {\"Male\": 0,\n",
    "                         \"Female\": 1,\n",
    "                          \"Nonbinary\": 2\n",
    "                         },        \n",
    "               \"Marital\": {\"Divorced\": 0,\n",
    "                         \"Married\": 1,\n",
    "                          \"Widowed\": 2,\n",
    "                          \"Never Married\": 3,\n",
    "                          \"Separated\": 4\n",
    "                         },\n",
    "                \n",
    "               }\n",
    "medical_df = medical_df.replace(cleanup_nums)"
   ]
  },
  {
   "cell_type": "code",
   "execution_count": 16,
   "id": "9e196766",
   "metadata": {},
   "outputs": [],
   "source": [
    "#10. Encoding Categorical Values with two categories, Yes/No \n",
    "\n",
    "medical_df[\"ReAdmis\"] = np.where(medical_df[\"ReAdmis\"].str.contains(\"Yes\"), 1, 0)\n",
    "medical_df[\"Soft_drink\"] = np.where(medical_df[\"Soft_drink\"].str.contains(\"Yes\"), 1, 0)\n",
    "medical_df[\"HighBlood\"] = np.where(medical_df[\"HighBlood\"].str.contains(\"Yes\"), 1, 0)\n",
    "medical_df[\"Stroke\"] = np.where(medical_df[\"Stroke\"].str.contains(\"Yes\"), 1, 0)\n",
    "medical_df[\"Overweight\"] = np.where(medical_df[\"Overweight\"].str.contains(\"Yes\"), 1, 0)\n",
    "medical_df[\"Arthritis\"] = np.where(medical_df[\"Arthritis\"].str.contains(\"Yes\"), 1, 0)\n",
    "medical_df[\"Hyperlipidemia\"] = np.where(medical_df[\"Hyperlipidemia\"].str.contains(\"Yes\"), 1, 0)\n",
    "medical_df[\"Diabetes\"] = np.where(medical_df[\"Diabetes\"].str.contains(\"Yes\"), 1, 0)\n",
    "medical_df[\"BackPain\"] = np.where(medical_df[\"BackPain\"].str.contains(\"Yes\"), 1, 0)\n",
    "medical_df[\"Anxiety\"] = np.where(medical_df[\"Anxiety\"].str.contains(\"Yes\"), 1, 0)\n",
    "medical_df[\"Allergic_rhinitis\"] = np.where(medical_df[\"Allergic_rhinitis\"].str.contains(\"Yes\"), 1, 0)\n",
    "medical_df[\"Reflux_esophagitis\"] = np.where(medical_df[\"Reflux_esophagitis\"].str.contains(\"Yes\"), 1, 0)\n",
    "medical_df[\"Asthma\"] = np.where(medical_df[\"Asthma\"].str.contains(\"Yes\"), 1, 0)\n"
   ]
  },
  {
   "cell_type": "code",
   "execution_count": 17,
   "id": "2fc288c3",
   "metadata": {},
   "outputs": [
    {
     "data": {
      "text/plain": [
       "array([0, 1, 2], dtype=int64)"
      ]
     },
     "execution_count": 17,
     "metadata": {},
     "output_type": "execute_result"
    }
   ],
   "source": [
    "#Check what values are assigned in the variables.\n",
    "medical_df['Gender'].unique() "
   ]
  },
  {
   "cell_type": "code",
   "execution_count": 18,
   "id": "0609bc7c",
   "metadata": {},
   "outputs": [
    {
     "data": {
      "text/plain": [
       "array([0, 1])"
      ]
     },
     "execution_count": 18,
     "metadata": {},
     "output_type": "execute_result"
    }
   ],
   "source": [
    "#Check what values are assigned in the variables.\n",
    "medical_df['ReAdmis'].unique() "
   ]
  },
  {
   "cell_type": "code",
   "execution_count": 19,
   "id": "71ca4709",
   "metadata": {},
   "outputs": [
    {
     "data": {
      "text/plain": [
       "array([1, 0, 2], dtype=int64)"
      ]
     },
     "execution_count": 19,
     "metadata": {},
     "output_type": "execute_result"
    }
   ],
   "source": [
    "#Check what values are assigned in the variables.\n",
    "medical_df['Complication_risk'].unique() "
   ]
  },
  {
   "cell_type": "code",
   "execution_count": 20,
   "id": "b2e0556f",
   "metadata": {},
   "outputs": [
    {
     "data": {
      "image/png": "[encoded data removed]",
      "text/plain": [
       "<Figure size 432x288 with 9 Axes>"
      ]
     },
     "metadata": {
      "needs_background": "light"
     },
     "output_type": "display_data"
    }
   ],
   "source": [
    "#10. Check distribution by creating histograms of continuous variables \n",
    "medical_df[['Age','Income','Initial_days','TotalCharge','Additional_charges', \n",
    "            'VitD_levels', 'Doc_visits', 'Full_meals_eaten', 'vitD_supp']].hist()\n",
    "plt.savefig('medical_continuos_pyplot.jpg')\n",
    "plt.tight_layout()"
   ]
  },
  {
   "cell_type": "code",
   "execution_count": 21,
   "id": "394ccff7",
   "metadata": {},
   "outputs": [
    {
     "data": {
      "image/png": "[encoded data removed]",
      "text/plain": [
       "<Figure size 432x288 with 20 Axes>"
      ]
     },
     "metadata": {
      "needs_background": "light"
     },
     "output_type": "display_data"
    }
   ],
   "source": [
    "# Check distribution by createing histograms of categorical variables \n",
    "medical_df[['Gender','ReAdmis','Soft_drink', 'Initial_admin','HighBlood', 'Stroke','Complication_risk', 'Overweight',\n",
    "           'Arthritis', 'Diabetes', 'Hyperlipidemia', 'BackPain', 'Anxiety',\n",
    "           'Allergic_rhinitis', 'Reflux_esophagitis', 'Asthma', 'Services']].hist()\n",
    "plt.savefig('medical_categorical_pyplot.jpg')\n",
    "plt.tight_layout()\n"
   ]
  },
  {
   "cell_type": "code",
   "execution_count": 22,
   "id": "c746e5e0",
   "metadata": {},
   "outputs": [
    {
     "data": {
      "image/png": "[encoded data removed]",
      "text/plain": [
       "<Figure size 432x288 with 1 Axes>"
      ]
     },
     "metadata": {
      "needs_background": "light"
     },
     "output_type": "display_data"
    }
   ],
   "source": [
    "medical_df.boxplot(['Initial_days'])\n",
    "plt.savefig('medical_boxplots_Initial_days.jpg')"
   ]
  },
  {
   "cell_type": "code",
   "execution_count": 23,
   "id": "d3af62f3",
   "metadata": {},
   "outputs": [
    {
     "name": "stdout",
     "output_type": "stream",
     "text": [
      "Minimum Initial_days is 1\n",
      "Maximum Initial_days is 71\n",
      "Initial_days range is 70\n"
     ]
    }
   ],
   "source": [
    "# MonthlyCharge range in column\n",
    "print(\"Minimum Initial_days is\", int(medical_df.Initial_days.min()))\n",
    "print(\"Maximum Initial_days is\", int(medical_df.Initial_days.max()))\n",
    "print(\"Initial_days range is\", int(medical_df.Initial_days.max()-medical_df.Initial_days.min()))"
   ]
  },
  {
   "cell_type": "code",
   "execution_count": 24,
   "id": "dd1dc23e",
   "metadata": {},
   "outputs": [
    {
     "data": {
      "image/png": "[encoded data removed]",
      "text/plain": [
       "<Figure size 432x288 with 1 Axes>"
      ]
     },
     "metadata": {
      "needs_background": "light"
     },
     "output_type": "display_data"
    }
   ],
   "source": [
    "# Create a scatterplot to get an idea of correlations between potentially related variables\n",
    "sns.scatterplot(x=medical_df['Initial_days'], y=medical_df['ReAdmis'])\n",
    "plt.show();"
   ]
  },
  {
   "cell_type": "code",
   "execution_count": 25,
   "id": "d4f1ec5f",
   "metadata": {},
   "outputs": [
    {
     "data": {
      "image/png": "[encoded data removed]",
      "text/plain": [
       "<Figure size 432x288 with 1 Axes>"
      ]
     },
     "metadata": {
      "needs_background": "light"
     },
     "output_type": "display_data"
    }
   ],
   "source": [
    "medical_df.boxplot(['TotalCharge'])\n",
    "plt.savefig('medical_boxplots_TotalCharge.jpg')"
   ]
  },
  {
   "cell_type": "code",
   "execution_count": 26,
   "id": "1106b4b2",
   "metadata": {},
   "outputs": [
    {
     "name": "stdout",
     "output_type": "stream",
     "text": [
      "Minimum TotalCharge is 1938\n",
      "Maximum TotalCharge is 9180\n",
      "TotalCharge range is 7242\n"
     ]
    }
   ],
   "source": [
    "# MonthlyCharge range in column\n",
    "print(\"Minimum TotalCharge is\", int(medical_df.TotalCharge.min()))\n",
    "print(\"Maximum TotalCharge is\", int(medical_df.TotalCharge.max()))\n",
    "print(\"TotalCharge range is\", int(medical_df.TotalCharge.max()-medical_df.TotalCharge.min()))"
   ]
  },
  {
   "cell_type": "code",
   "execution_count": 27,
   "id": "540c10ac",
   "metadata": {},
   "outputs": [
    {
     "data": {
      "image/png": "[encoded data removed]",
      "text/plain": [
       "<Figure size 432x288 with 1 Axes>"
      ]
     },
     "metadata": {
      "needs_background": "light"
     },
     "output_type": "display_data"
    }
   ],
   "source": [
    "medical_df.boxplot(['Additional_charges'])\n",
    "plt.savefig('medical_boxplots_AdditionalCharge.jpg')"
   ]
  },
  {
   "cell_type": "code",
   "execution_count": 28,
   "id": "3042206e",
   "metadata": {},
   "outputs": [
    {
     "name": "stdout",
     "output_type": "stream",
     "text": [
      "Minimum Additional_chargesis 3125\n",
      "Maximum Additional_charges is 30566\n",
      "Additional_charges range is 27440\n"
     ]
    }
   ],
   "source": [
    "# Additional_charges range in column\n",
    "print(\"Minimum Additional_chargesis\", int(medical_df.Additional_charges.min()))\n",
    "print(\"Maximum Additional_charges is\", int(medical_df.Additional_charges.max()))\n",
    "print(\"Additional_charges range is\", int(medical_df.Additional_charges.max()-medical_df.Additional_charges.min()))"
   ]
  },
  {
   "cell_type": "code",
   "execution_count": 29,
   "id": "57f0e017",
   "metadata": {},
   "outputs": [
    {
     "data": {
      "text/plain": [
       "Age\n",
       "18    133\n",
       "19    137\n",
       "20    120\n",
       "21    125\n",
       "22    141\n",
       "     ... \n",
       "85    135\n",
       "86    156\n",
       "87    136\n",
       "88    143\n",
       "89    132\n",
       "Length: 72, dtype: int64"
      ]
     },
     "execution_count": 29,
     "metadata": {},
     "output_type": "execute_result"
    }
   ],
   "source": [
    "AgeGroup = medical_df.groupby(by = 'Age').size()\n",
    "AgeGroup"
   ]
  },
  {
   "cell_type": "code",
   "execution_count": 30,
   "id": "3e0c229e",
   "metadata": {},
   "outputs": [
    {
     "data": {
      "text/plain": [
       "<AxesSubplot:xlabel='Age'>"
      ]
     },
     "execution_count": 30,
     "metadata": {},
     "output_type": "execute_result"
    },
    {
     "data": {
      "image/png": "[encoded data removed]",
      "text/plain": [
       "<Figure size 432x288 with 1 Axes>"
      ]
     },
     "metadata": {
      "needs_background": "light"
     },
     "output_type": "display_data"
    }
   ],
   "source": [
    "%matplotlib inline\n",
    "AgeGroup.plot.bar()"
   ]
  },
  {
   "cell_type": "code",
   "execution_count": 31,
   "id": "cabef285",
   "metadata": {},
   "outputs": [
    {
     "name": "stdout",
     "output_type": "stream",
     "text": [
      "Minimum Age is 18\n",
      "Maximum Age is 89\n",
      "Age range is 71\n"
     ]
    }
   ],
   "source": [
    "# Age range in column\n",
    "print(\"Minimum Age is\", medical_df.Age.min())\n",
    "print(\"Maximum Age is\", medical_df.Age.max())\n",
    "print(\"Age range is\", medical_df.Age.max()-medical_df.Age.min())"
   ]
  },
  {
   "cell_type": "code",
   "execution_count": 32,
   "id": "fd59650f",
   "metadata": {},
   "outputs": [
    {
     "data": {
      "text/html": [
       "<div>\n",
       "<style scoped>\n",
       "    .dataframe tbody tr th:only-of-type {\n",
       "        vertical-align: middle;\n",
       "    }\n",
       "\n",
       "    .dataframe tbody tr th {\n",
       "        vertical-align: top;\n",
       "    }\n",
       "\n",
       "    .dataframe thead th {\n",
       "        text-align: right;\n",
       "    }\n",
       "</style>\n",
       "<table border=\"1\" class=\"dataframe\">\n",
       "  <thead>\n",
       "    <tr style=\"text-align: right;\">\n",
       "      <th></th>\n",
       "      <th>Children</th>\n",
       "      <th>Age</th>\n",
       "      <th>Income</th>\n",
       "      <th>Marital</th>\n",
       "      <th>Gender</th>\n",
       "      <th>ReAdmis</th>\n",
       "      <th>VitD_levels</th>\n",
       "      <th>Doc_visits</th>\n",
       "      <th>Full_meals_eaten</th>\n",
       "      <th>vitD_supp</th>\n",
       "      <th>...</th>\n",
       "      <th>TotalCharge</th>\n",
       "      <th>Additional_charges</th>\n",
       "      <th>Survey_TimelyAdmission</th>\n",
       "      <th>Survey_TimelyTreatment</th>\n",
       "      <th>Survey_TimelyVisits</th>\n",
       "      <th>Survey_Reliability</th>\n",
       "      <th>Survey_Options</th>\n",
       "      <th>Survey_HoursTreatment</th>\n",
       "      <th>Survey_CourteousStaff</th>\n",
       "      <th>Survey_Listening</th>\n",
       "    </tr>\n",
       "  </thead>\n",
       "  <tbody>\n",
       "    <tr>\n",
       "      <th>0</th>\n",
       "      <td>1</td>\n",
       "      <td>53</td>\n",
       "      <td>86575.93</td>\n",
       "      <td>0</td>\n",
       "      <td>0</td>\n",
       "      <td>0</td>\n",
       "      <td>19.141466</td>\n",
       "      <td>6</td>\n",
       "      <td>0</td>\n",
       "      <td>0</td>\n",
       "      <td>...</td>\n",
       "      <td>3726.702860</td>\n",
       "      <td>17939.403420</td>\n",
       "      <td>3</td>\n",
       "      <td>3</td>\n",
       "      <td>2</td>\n",
       "      <td>2</td>\n",
       "      <td>4</td>\n",
       "      <td>3</td>\n",
       "      <td>3</td>\n",
       "      <td>4</td>\n",
       "    </tr>\n",
       "    <tr>\n",
       "      <th>1</th>\n",
       "      <td>3</td>\n",
       "      <td>51</td>\n",
       "      <td>46805.99</td>\n",
       "      <td>1</td>\n",
       "      <td>1</td>\n",
       "      <td>0</td>\n",
       "      <td>18.940352</td>\n",
       "      <td>4</td>\n",
       "      <td>2</td>\n",
       "      <td>1</td>\n",
       "      <td>...</td>\n",
       "      <td>4193.190458</td>\n",
       "      <td>17612.998120</td>\n",
       "      <td>3</td>\n",
       "      <td>4</td>\n",
       "      <td>3</td>\n",
       "      <td>4</td>\n",
       "      <td>4</td>\n",
       "      <td>4</td>\n",
       "      <td>3</td>\n",
       "      <td>3</td>\n",
       "    </tr>\n",
       "    <tr>\n",
       "      <th>2</th>\n",
       "      <td>3</td>\n",
       "      <td>53</td>\n",
       "      <td>14370.14</td>\n",
       "      <td>2</td>\n",
       "      <td>1</td>\n",
       "      <td>0</td>\n",
       "      <td>18.057507</td>\n",
       "      <td>4</td>\n",
       "      <td>1</td>\n",
       "      <td>0</td>\n",
       "      <td>...</td>\n",
       "      <td>2434.234222</td>\n",
       "      <td>17505.192460</td>\n",
       "      <td>2</td>\n",
       "      <td>4</td>\n",
       "      <td>4</td>\n",
       "      <td>4</td>\n",
       "      <td>3</td>\n",
       "      <td>4</td>\n",
       "      <td>3</td>\n",
       "      <td>3</td>\n",
       "    </tr>\n",
       "    <tr>\n",
       "      <th>3</th>\n",
       "      <td>0</td>\n",
       "      <td>78</td>\n",
       "      <td>39741.49</td>\n",
       "      <td>1</td>\n",
       "      <td>0</td>\n",
       "      <td>0</td>\n",
       "      <td>16.576858</td>\n",
       "      <td>4</td>\n",
       "      <td>1</td>\n",
       "      <td>0</td>\n",
       "      <td>...</td>\n",
       "      <td>2127.830423</td>\n",
       "      <td>12993.437350</td>\n",
       "      <td>3</td>\n",
       "      <td>5</td>\n",
       "      <td>5</td>\n",
       "      <td>3</td>\n",
       "      <td>4</td>\n",
       "      <td>5</td>\n",
       "      <td>5</td>\n",
       "      <td>5</td>\n",
       "    </tr>\n",
       "    <tr>\n",
       "      <th>4</th>\n",
       "      <td>1</td>\n",
       "      <td>22</td>\n",
       "      <td>1209.56</td>\n",
       "      <td>2</td>\n",
       "      <td>1</td>\n",
       "      <td>0</td>\n",
       "      <td>17.439069</td>\n",
       "      <td>5</td>\n",
       "      <td>0</td>\n",
       "      <td>2</td>\n",
       "      <td>...</td>\n",
       "      <td>2113.073274</td>\n",
       "      <td>3716.525786</td>\n",
       "      <td>2</td>\n",
       "      <td>1</td>\n",
       "      <td>3</td>\n",
       "      <td>3</td>\n",
       "      <td>5</td>\n",
       "      <td>3</td>\n",
       "      <td>4</td>\n",
       "      <td>3</td>\n",
       "    </tr>\n",
       "  </tbody>\n",
       "</table>\n",
       "<p>5 rows × 36 columns</p>\n",
       "</div>"
      ],
      "text/plain": [
       "   Children  Age    Income  Marital  Gender  ReAdmis  VitD_levels  Doc_visits  \\\n",
       "0         1   53  86575.93        0       0        0    19.141466           6   \n",
       "1         3   51  46805.99        1       1        0    18.940352           4   \n",
       "2         3   53  14370.14        2       1        0    18.057507           4   \n",
       "3         0   78  39741.49        1       0        0    16.576858           4   \n",
       "4         1   22   1209.56        2       1        0    17.439069           5   \n",
       "\n",
       "   Full_meals_eaten  vitD_supp  ...  TotalCharge  Additional_charges  \\\n",
       "0                 0          0  ...  3726.702860        17939.403420   \n",
       "1                 2          1  ...  4193.190458        17612.998120   \n",
       "2                 1          0  ...  2434.234222        17505.192460   \n",
       "3                 1          0  ...  2127.830423        12993.437350   \n",
       "4                 0          2  ...  2113.073274         3716.525786   \n",
       "\n",
       "   Survey_TimelyAdmission  Survey_TimelyTreatment  Survey_TimelyVisits  \\\n",
       "0                       3                       3                    2   \n",
       "1                       3                       4                    3   \n",
       "2                       2                       4                    4   \n",
       "3                       3                       5                    5   \n",
       "4                       2                       1                    3   \n",
       "\n",
       "   Survey_Reliability  Survey_Options  Survey_HoursTreatment  \\\n",
       "0                   2               4                      3   \n",
       "1                   4               4                      4   \n",
       "2                   4               3                      4   \n",
       "3                   3               4                      5   \n",
       "4                   3               5                      3   \n",
       "\n",
       "   Survey_CourteousStaff  Survey_Listening  \n",
       "0                      3                 4  \n",
       "1                      3                 3  \n",
       "2                      3                 3  \n",
       "3                      5                 5  \n",
       "4                      4                 3  \n",
       "\n",
       "[5 rows x 36 columns]"
      ]
     },
     "execution_count": 32,
     "metadata": {},
     "output_type": "execute_result"
    }
   ],
   "source": [
    "medical_df.head()"
   ]
  },
  {
   "cell_type": "code",
   "execution_count": 33,
   "id": "816cd872",
   "metadata": {},
   "outputs": [
    {
     "name": "stdout",
     "output_type": "stream",
     "text": [
      "Index(['Children', 'Age', 'Income', 'Marital', 'Gender', 'ReAdmis',\n",
      "       'VitD_levels', 'Doc_visits', 'Full_meals_eaten', 'vitD_supp',\n",
      "       'Soft_drink', 'Initial_admin', 'HighBlood', 'Stroke',\n",
      "       'Complication_risk', 'Overweight', 'Arthritis', 'Diabetes',\n",
      "       'Hyperlipidemia', 'BackPain', 'Anxiety', 'Allergic_rhinitis',\n",
      "       'Reflux_esophagitis', 'Asthma', 'Services', 'Initial_days',\n",
      "       'TotalCharge', 'Additional_charges', 'Survey_TimelyAdmission',\n",
      "       'Survey_TimelyTreatment', 'Survey_TimelyVisits', 'Survey_Reliability',\n",
      "       'Survey_Options', 'Survey_HoursTreatment', 'Survey_CourteousStaff',\n",
      "       'Survey_Listening'],\n",
      "      dtype='object')\n"
     ]
    }
   ],
   "source": [
    "medical_df_columns = medical_df.columns\n",
    "print(medical_df_columns)"
   ]
  },
  {
   "cell_type": "code",
   "execution_count": 34,
   "id": "d77fd1f3",
   "metadata": {},
   "outputs": [
    {
     "name": "stdout",
     "output_type": "stream",
     "text": [
      "----------------------------------------Children---------------------------------------- - "
     ]
    },
    {
     "data": {
      "text/plain": [
       "0     2548\n",
       "1     2509\n",
       "3     1489\n",
       "2     1475\n",
       "4      995\n",
       "7      213\n",
       "8      209\n",
       "6      191\n",
       "5      169\n",
       "9      108\n",
       "10      94\n",
       "Name: Children, dtype: int64"
      ]
     },
     "metadata": {},
     "output_type": "display_data"
    },
    {
     "name": "stdout",
     "output_type": "stream",
     "text": [
      "----------------------------------------Age---------------------------------------- - "
     ]
    },
    {
     "data": {
      "text/plain": [
       "47    161\n",
       "74    159\n",
       "52    159\n",
       "41    157\n",
       "86    156\n",
       "     ... \n",
       "63    123\n",
       "51    122\n",
       "20    120\n",
       "36    118\n",
       "80    116\n",
       "Name: Age, Length: 72, dtype: int64"
      ]
     },
     "metadata": {},
     "output_type": "display_data"
    },
    {
     "name": "stdout",
     "output_type": "stream",
     "text": [
      "----------------------------------------Income---------------------------------------- - "
     ]
    },
    {
     "data": {
      "text/plain": [
       "26915.85    2\n",
       "24997.02    2\n",
       "55506.92    2\n",
       "37132.97    2\n",
       "14572.40    2\n",
       "           ..\n",
       "81337.04    1\n",
       "17755.30    1\n",
       "18980.55    1\n",
       "21847.03    1\n",
       "21007.85    1\n",
       "Name: Income, Length: 9993, dtype: int64"
      ]
     },
     "metadata": {},
     "output_type": "display_data"
    },
    {
     "name": "stdout",
     "output_type": "stream",
     "text": [
      "----------------------------------------Marital---------------------------------------- - "
     ]
    },
    {
     "data": {
      "text/plain": [
       "2    2045\n",
       "1    2023\n",
       "4    1987\n",
       "3    1984\n",
       "0    1961\n",
       "Name: Marital, dtype: int64"
      ]
     },
     "metadata": {},
     "output_type": "display_data"
    },
    {
     "name": "stdout",
     "output_type": "stream",
     "text": [
      "----------------------------------------Gender---------------------------------------- - "
     ]
    },
    {
     "data": {
      "text/plain": [
       "1    5018\n",
       "0    4768\n",
       "2     214\n",
       "Name: Gender, dtype: int64"
      ]
     },
     "metadata": {},
     "output_type": "display_data"
    },
    {
     "name": "stdout",
     "output_type": "stream",
     "text": [
      "----------------------------------------ReAdmis---------------------------------------- - "
     ]
    },
    {
     "data": {
      "text/plain": [
       "0    6331\n",
       "1    3669\n",
       "Name: ReAdmis, dtype: int64"
      ]
     },
     "metadata": {},
     "output_type": "display_data"
    },
    {
     "name": "stdout",
     "output_type": "stream",
     "text": [
      "----------------------------------------VitD_levels---------------------------------------- - "
     ]
    },
    {
     "data": {
      "text/plain": [
       "15.674860    2\n",
       "17.900980    2\n",
       "18.711280    2\n",
       "19.622680    2\n",
       "16.782630    2\n",
       "            ..\n",
       "20.937866    1\n",
       "17.306570    1\n",
       "22.472230    1\n",
       "15.923136    1\n",
       "17.372776    1\n",
       "Name: VitD_levels, Length: 9976, dtype: int64"
      ]
     },
     "metadata": {},
     "output_type": "display_data"
    },
    {
     "name": "stdout",
     "output_type": "stream",
     "text": [
      "----------------------------------------Doc_visits---------------------------------------- - "
     ]
    },
    {
     "data": {
      "text/plain": [
       "5    3823\n",
       "6    2436\n",
       "4    2385\n",
       "7     634\n",
       "3     595\n",
       "8      61\n",
       "2      58\n",
       "1       6\n",
       "9       2\n",
       "Name: Doc_visits, dtype: int64"
      ]
     },
     "metadata": {},
     "output_type": "display_data"
    },
    {
     "name": "stdout",
     "output_type": "stream",
     "text": [
      "----------------------------------------Full_meals_eaten---------------------------------------- - "
     ]
    },
    {
     "data": {
      "text/plain": [
       "0    3715\n",
       "1    3615\n",
       "2    1856\n",
       "3     612\n",
       "4     169\n",
       "5      25\n",
       "6       6\n",
       "7       2\n",
       "Name: Full_meals_eaten, dtype: int64"
      ]
     },
     "metadata": {},
     "output_type": "display_data"
    },
    {
     "name": "stdout",
     "output_type": "stream",
     "text": [
      "----------------------------------------vitD_supp---------------------------------------- - "
     ]
    },
    {
     "data": {
      "text/plain": [
       "0    6702\n",
       "1    2684\n",
       "2     544\n",
       "3      64\n",
       "4       5\n",
       "5       1\n",
       "Name: vitD_supp, dtype: int64"
      ]
     },
     "metadata": {},
     "output_type": "display_data"
    },
    {
     "name": "stdout",
     "output_type": "stream",
     "text": [
      "----------------------------------------Soft_drink---------------------------------------- - "
     ]
    },
    {
     "data": {
      "text/plain": [
       "0    7425\n",
       "1    2575\n",
       "Name: Soft_drink, dtype: int64"
      ]
     },
     "metadata": {},
     "output_type": "display_data"
    },
    {
     "name": "stdout",
     "output_type": "stream",
     "text": [
      "----------------------------------------Initial_admin---------------------------------------- - "
     ]
    },
    {
     "data": {
      "text/plain": [
       "0    5060\n",
       "1    2504\n",
       "2    2436\n",
       "Name: Initial_admin, dtype: int64"
      ]
     },
     "metadata": {},
     "output_type": "display_data"
    },
    {
     "name": "stdout",
     "output_type": "stream",
     "text": [
      "----------------------------------------HighBlood---------------------------------------- - "
     ]
    },
    {
     "data": {
      "text/plain": [
       "0    5910\n",
       "1    4090\n",
       "Name: HighBlood, dtype: int64"
      ]
     },
     "metadata": {},
     "output_type": "display_data"
    },
    {
     "name": "stdout",
     "output_type": "stream",
     "text": [
      "----------------------------------------Stroke---------------------------------------- - "
     ]
    },
    {
     "data": {
      "text/plain": [
       "0    8007\n",
       "1    1993\n",
       "Name: Stroke, dtype: int64"
      ]
     },
     "metadata": {},
     "output_type": "display_data"
    },
    {
     "name": "stdout",
     "output_type": "stream",
     "text": [
      "----------------------------------------Complication_risk---------------------------------------- - "
     ]
    },
    {
     "data": {
      "text/plain": [
       "1    4517\n",
       "0    3358\n",
       "2    2125\n",
       "Name: Complication_risk, dtype: int64"
      ]
     },
     "metadata": {},
     "output_type": "display_data"
    },
    {
     "name": "stdout",
     "output_type": "stream",
     "text": [
      "----------------------------------------Overweight---------------------------------------- - "
     ]
    },
    {
     "data": {
      "text/plain": [
       "1    7094\n",
       "0    2906\n",
       "Name: Overweight, dtype: int64"
      ]
     },
     "metadata": {},
     "output_type": "display_data"
    },
    {
     "name": "stdout",
     "output_type": "stream",
     "text": [
      "----------------------------------------Arthritis---------------------------------------- - "
     ]
    },
    {
     "data": {
      "text/plain": [
       "0    6426\n",
       "1    3574\n",
       "Name: Arthritis, dtype: int64"
      ]
     },
     "metadata": {},
     "output_type": "display_data"
    },
    {
     "name": "stdout",
     "output_type": "stream",
     "text": [
      "----------------------------------------Diabetes---------------------------------------- - "
     ]
    },
    {
     "data": {
      "text/plain": [
       "0    7262\n",
       "1    2738\n",
       "Name: Diabetes, dtype: int64"
      ]
     },
     "metadata": {},
     "output_type": "display_data"
    },
    {
     "name": "stdout",
     "output_type": "stream",
     "text": [
      "----------------------------------------Hyperlipidemia---------------------------------------- - "
     ]
    },
    {
     "data": {
      "text/plain": [
       "0    6628\n",
       "1    3372\n",
       "Name: Hyperlipidemia, dtype: int64"
      ]
     },
     "metadata": {},
     "output_type": "display_data"
    },
    {
     "name": "stdout",
     "output_type": "stream",
     "text": [
      "----------------------------------------BackPain---------------------------------------- - "
     ]
    },
    {
     "data": {
      "text/plain": [
       "0    5886\n",
       "1    4114\n",
       "Name: BackPain, dtype: int64"
      ]
     },
     "metadata": {},
     "output_type": "display_data"
    },
    {
     "name": "stdout",
     "output_type": "stream",
     "text": [
      "----------------------------------------Anxiety---------------------------------------- - "
     ]
    },
    {
     "data": {
      "text/plain": [
       "0    6785\n",
       "1    3215\n",
       "Name: Anxiety, dtype: int64"
      ]
     },
     "metadata": {},
     "output_type": "display_data"
    },
    {
     "name": "stdout",
     "output_type": "stream",
     "text": [
      "----------------------------------------Allergic_rhinitis---------------------------------------- - "
     ]
    },
    {
     "data": {
      "text/plain": [
       "0    6059\n",
       "1    3941\n",
       "Name: Allergic_rhinitis, dtype: int64"
      ]
     },
     "metadata": {},
     "output_type": "display_data"
    },
    {
     "name": "stdout",
     "output_type": "stream",
     "text": [
      "----------------------------------------Reflux_esophagitis---------------------------------------- - "
     ]
    },
    {
     "data": {
      "text/plain": [
       "0    5865\n",
       "1    4135\n",
       "Name: Reflux_esophagitis, dtype: int64"
      ]
     },
     "metadata": {},
     "output_type": "display_data"
    },
    {
     "name": "stdout",
     "output_type": "stream",
     "text": [
      "----------------------------------------Asthma---------------------------------------- - "
     ]
    },
    {
     "data": {
      "text/plain": [
       "0    7107\n",
       "1    2893\n",
       "Name: Asthma, dtype: int64"
      ]
     },
     "metadata": {},
     "output_type": "display_data"
    },
    {
     "name": "stdout",
     "output_type": "stream",
     "text": [
      "----------------------------------------Services---------------------------------------- - "
     ]
    },
    {
     "data": {
      "text/plain": [
       "0    5265\n",
       "1    3130\n",
       "2    1225\n",
       "3     380\n",
       "Name: Services, dtype: int64"
      ]
     },
     "metadata": {},
     "output_type": "display_data"
    },
    {
     "name": "stdout",
     "output_type": "stream",
     "text": [
      "----------------------------------------Initial_days---------------------------------------- - "
     ]
    },
    {
     "data": {
      "text/plain": [
       "63.544320    2\n",
       "67.421390    2\n",
       "70.325420    2\n",
       "4.912367     1\n",
       "53.405170    1\n",
       "            ..\n",
       "10.138463    1\n",
       "58.034160    1\n",
       "70.505400    1\n",
       "1.923162     1\n",
       "5.703981     1\n",
       "Name: Initial_days, Length: 9997, dtype: int64"
      ]
     },
     "metadata": {},
     "output_type": "display_data"
    },
    {
     "name": "stdout",
     "output_type": "stream",
     "text": [
      "----------------------------------------TotalCharge---------------------------------------- - "
     ]
    },
    {
     "data": {
      "text/plain": [
       "7555.452000    2\n",
       "8081.346000    2\n",
       "7964.681000    2\n",
       "8109.808000    1\n",
       "3316.603639    1\n",
       "              ..\n",
       "2631.579978    1\n",
       "6466.237000    1\n",
       "2760.709578    1\n",
       "7860.680000    1\n",
       "3370.734711    1\n",
       "Name: TotalCharge, Length: 9997, dtype: int64"
      ]
     },
     "metadata": {},
     "output_type": "display_data"
    },
    {
     "name": "stdout",
     "output_type": "stream",
     "text": [
      "----------------------------------------Additional_charges---------------------------------------- - "
     ]
    },
    {
     "data": {
      "text/plain": [
       "8044.550000     3\n",
       "6858.934776     3\n",
       "14641.571040    3\n",
       "5000.124000     3\n",
       "4750.641900     3\n",
       "               ..\n",
       "4060.807076     1\n",
       "9965.695000     1\n",
       "6572.590210     1\n",
       "11775.511170    1\n",
       "12804.678120    1\n",
       "Name: Additional_charges, Length: 9418, dtype: int64"
      ]
     },
     "metadata": {},
     "output_type": "display_data"
    },
    {
     "name": "stdout",
     "output_type": "stream",
     "text": [
      "----------------------------------------Survey_TimelyAdmission---------------------------------------- - "
     ]
    },
    {
     "data": {
      "text/plain": [
       "4    3455\n",
       "3    3404\n",
       "5    1377\n",
       "2    1315\n",
       "6     225\n",
       "1     213\n",
       "7      10\n",
       "8       1\n",
       "Name: Survey_TimelyAdmission, dtype: int64"
      ]
     },
     "metadata": {},
     "output_type": "display_data"
    },
    {
     "name": "stdout",
     "output_type": "stream",
     "text": [
      "----------------------------------------Survey_TimelyTreatment---------------------------------------- - "
     ]
    },
    {
     "data": {
      "text/plain": [
       "3    3439\n",
       "4    3351\n",
       "5    1421\n",
       "2    1360\n",
       "1     213\n",
       "6     204\n",
       "7      12\n",
       "Name: Survey_TimelyTreatment, dtype: int64"
      ]
     },
     "metadata": {},
     "output_type": "display_data"
    },
    {
     "name": "stdout",
     "output_type": "stream",
     "text": [
      "----------------------------------------Survey_TimelyVisits---------------------------------------- - "
     ]
    },
    {
     "data": {
      "text/plain": [
       "4    3464\n",
       "3    3379\n",
       "5    1358\n",
       "2    1356\n",
       "6     220\n",
       "1     211\n",
       "7      11\n",
       "8       1\n",
       "Name: Survey_TimelyVisits, dtype: int64"
      ]
     },
     "metadata": {},
     "output_type": "display_data"
    },
    {
     "name": "stdout",
     "output_type": "stream",
     "text": [
      "----------------------------------------Survey_Reliability---------------------------------------- - "
     ]
    },
    {
     "data": {
      "text/plain": [
       "3    3422\n",
       "4    3394\n",
       "5    1388\n",
       "2    1346\n",
       "6     231\n",
       "1     207\n",
       "7      12\n",
       "Name: Survey_Reliability, dtype: int64"
      ]
     },
     "metadata": {},
     "output_type": "display_data"
    },
    {
     "name": "stdout",
     "output_type": "stream",
     "text": [
      "----------------------------------------Survey_Options---------------------------------------- - "
     ]
    },
    {
     "data": {
      "text/plain": [
       "4    3446\n",
       "3    3423\n",
       "2    1380\n",
       "5    1308\n",
       "6     219\n",
       "1     211\n",
       "7      13\n",
       "Name: Survey_Options, dtype: int64"
      ]
     },
     "metadata": {},
     "output_type": "display_data"
    },
    {
     "name": "stdout",
     "output_type": "stream",
     "text": [
      "----------------------------------------Survey_HoursTreatment---------------------------------------- - "
     ]
    },
    {
     "data": {
      "text/plain": [
       "4    3464\n",
       "3    3371\n",
       "5    1403\n",
       "2    1319\n",
       "6     220\n",
       "1     213\n",
       "7      10\n",
       "Name: Survey_HoursTreatment, dtype: int64"
      ]
     },
     "metadata": {},
     "output_type": "display_data"
    },
    {
     "name": "stdout",
     "output_type": "stream",
     "text": [
      "----------------------------------------Survey_CourteousStaff---------------------------------------- - "
     ]
    },
    {
     "data": {
      "text/plain": [
       "4    3487\n",
       "3    3456\n",
       "2    1345\n",
       "5    1274\n",
       "1     215\n",
       "6     212\n",
       "7      11\n",
       "Name: Survey_CourteousStaff, dtype: int64"
      ]
     },
     "metadata": {},
     "output_type": "display_data"
    },
    {
     "name": "stdout",
     "output_type": "stream",
     "text": [
      "----------------------------------------Survey_Listening---------------------------------------- - "
     ]
    },
    {
     "data": {
      "text/plain": [
       "3    3401\n",
       "4    3337\n",
       "5    1429\n",
       "2    1391\n",
       "6     221\n",
       "1     209\n",
       "7      12\n",
       "Name: Survey_Listening, dtype: int64"
      ]
     },
     "metadata": {},
     "output_type": "display_data"
    }
   ],
   "source": [
    "#11. Prepared data set copy before scaling: medical_prepared_kmeans.csv\n",
    "for col in medical_df.columns:\n",
    "    print('-' * 40 + col + '-' * 40 , end=' - ')\n",
    "    display(medical_df[col].value_counts())\n",
    "\n",
    "medical_df.to_csv(\"medical_prepared_kmeans.csv\", index=False)"
   ]
  },
  {
   "cell_type": "markdown",
   "id": "63bf7063",
   "metadata": {},
   "source": [
    "We demonstrated continuous variables: Initial_days, TotalCharge, Income, and Additional_charges to perform our analyses.\n",
    "To give equal importance to all features, I will scale the continuous features using scikit-learn's MinMaxScaler as the feature matrix. The min/max scaler shows the shape of the original distribution. In each value in the feature, the min/max scaler subtracts the minimum value in the feature, then divides the difference between the original maximum and the original minimum by the range. So it doesn't change the information embedded in the original data. For example, the min/max scaler has default rage for the features is 0 to 1.\n"
   ]
  },
  {
   "cell_type": "code",
   "execution_count": 35,
   "id": "3b1c6b7b",
   "metadata": {},
   "outputs": [],
   "source": [
    "#12. Scale the features for use in the k-means clustering analysis (Initial_days,TotalCharge, Income, Additional_charges)\n",
    "# Import required packages\n",
    "from sklearn.preprocessing import MinMaxScaler\n"
   ]
  },
  {
   "cell_type": "code",
   "execution_count": 36,
   "id": "218974f1",
   "metadata": {},
   "outputs": [],
   "source": [
    "# make a copy of dataframe, features for analysis: 'TotalCharge', 'Income', 'Initial_days','Additional_charges'\n",
    "scaled_features = medical_df.copy()\n",
    "\n",
    "col_names = ['TotalCharge', 'Income', 'Initial_days','Additional_charges']\n",
    "features = scaled_features[col_names]\n",
    "\n",
    "#Use Min/Max scaler\n",
    "scaler = MinMaxScaler()\n",
    "\n",
    "scaler.fit(features)\n",
    "medical_df_scaled = scaler.transform(features)"
   ]
  },
  {
   "cell_type": "code",
   "execution_count": 37,
   "id": "24433eda",
   "metadata": {},
   "outputs": [],
   "source": [
    "# Use Standard scaler\n",
    "#scaler = StandardScaler().fit(features.values)\n",
    "#features = scaler.transform(features.values)\n",
    "#scaled_features[col_names] = features"
   ]
  },
  {
   "cell_type": "code",
   "execution_count": 38,
   "id": "4c9a3765",
   "metadata": {},
   "outputs": [
    {
     "data": {
      "text/plain": [
       "array([1.93831207e+03, 1.54080000e+02, 1.00198092e+00, 3.12570300e+03])"
      ]
     },
     "execution_count": 38,
     "metadata": {},
     "output_type": "execute_result"
    }
   ],
   "source": [
    "#the scaler stores the mean of the features\n",
    "#min values\n",
    "scaler.data_min_"
   ]
  },
  {
   "cell_type": "code",
   "execution_count": 39,
   "id": "342f8b11",
   "metadata": {},
   "outputs": [
    {
     "data": {
      "text/plain": [
       "array([1.38075472e-04, 4.82870134e-06, 1.40885731e-02, 3.64426613e-05])"
      ]
     },
     "execution_count": 39,
     "metadata": {},
     "output_type": "execute_result"
    }
   ],
   "source": [
    "#the scaler stores the standard deviation of features in scale\n",
    "scaler.scale_"
   ]
  },
  {
   "cell_type": "code",
   "execution_count": 40,
   "id": "6d4ad311",
   "metadata": {},
   "outputs": [
    {
     "data": {
      "text/plain": [
       "array([[0.2469329 , 0.4173053 , 0.13502191, 0.53985067],\n",
       "       [0.3113434 , 0.22526814, 0.19903746, 0.52795559],\n",
       "       [0.06847469, 0.06864511, 0.05311669, 0.52402686],\n",
       "       ...,\n",
       "       [0.87514567, 0.31755341, 0.97425581, 0.44297902],\n",
       "       [0.78788225, 0.14267963, 0.87849183, 0.16967612],\n",
       "       [0.82144425, 0.30193169, 0.98406723, 0.31039989]])"
      ]
     },
     "execution_count": 40,
     "metadata": {},
     "output_type": "execute_result"
    }
   ],
   "source": [
    "medical_df_scaled"
   ]
  },
  {
   "cell_type": "code",
   "execution_count": 41,
   "id": "62108158",
   "metadata": {},
   "outputs": [],
   "source": [
    "#transfom/create dataframe\n",
    "\n",
    "medical_df_scaled = pd.DataFrame(medical_df_scaled, columns = features.columns)"
   ]
  },
  {
   "cell_type": "code",
   "execution_count": 42,
   "id": "bca9ba8e",
   "metadata": {},
   "outputs": [
    {
     "data": {
      "text/html": [
       "<div>\n",
       "<style scoped>\n",
       "    .dataframe tbody tr th:only-of-type {\n",
       "        vertical-align: middle;\n",
       "    }\n",
       "\n",
       "    .dataframe tbody tr th {\n",
       "        vertical-align: top;\n",
       "    }\n",
       "\n",
       "    .dataframe thead th {\n",
       "        text-align: right;\n",
       "    }\n",
       "</style>\n",
       "<table border=\"1\" class=\"dataframe\">\n",
       "  <thead>\n",
       "    <tr style=\"text-align: right;\">\n",
       "      <th></th>\n",
       "      <th>TotalCharge</th>\n",
       "      <th>Income</th>\n",
       "      <th>Initial_days</th>\n",
       "      <th>Additional_charges</th>\n",
       "    </tr>\n",
       "  </thead>\n",
       "  <tbody>\n",
       "    <tr>\n",
       "      <th>0</th>\n",
       "      <td>0.246933</td>\n",
       "      <td>0.417305</td>\n",
       "      <td>0.135022</td>\n",
       "      <td>0.539851</td>\n",
       "    </tr>\n",
       "    <tr>\n",
       "      <th>1</th>\n",
       "      <td>0.311343</td>\n",
       "      <td>0.225268</td>\n",
       "      <td>0.199037</td>\n",
       "      <td>0.527956</td>\n",
       "    </tr>\n",
       "    <tr>\n",
       "      <th>2</th>\n",
       "      <td>0.068475</td>\n",
       "      <td>0.068645</td>\n",
       "      <td>0.053117</td>\n",
       "      <td>0.524027</td>\n",
       "    </tr>\n",
       "    <tr>\n",
       "      <th>3</th>\n",
       "      <td>0.026168</td>\n",
       "      <td>0.191156</td>\n",
       "      <td>0.010044</td>\n",
       "      <td>0.359607</td>\n",
       "    </tr>\n",
       "    <tr>\n",
       "      <th>4</th>\n",
       "      <td>0.024130</td>\n",
       "      <td>0.005097</td>\n",
       "      <td>0.003562</td>\n",
       "      <td>0.021531</td>\n",
       "    </tr>\n",
       "  </tbody>\n",
       "</table>\n",
       "</div>"
      ],
      "text/plain": [
       "   TotalCharge    Income  Initial_days  Additional_charges\n",
       "0     0.246933  0.417305      0.135022            0.539851\n",
       "1     0.311343  0.225268      0.199037            0.527956\n",
       "2     0.068475  0.068645      0.053117            0.524027\n",
       "3     0.026168  0.191156      0.010044            0.359607\n",
       "4     0.024130  0.005097      0.003562            0.021531"
      ]
     },
     "execution_count": 42,
     "metadata": {},
     "output_type": "execute_result"
    }
   ],
   "source": [
    "medical_df_scaled.head()"
   ]
  },
  {
   "cell_type": "markdown",
   "id": "134c496e",
   "metadata": {},
   "source": [
    "**C4. Prepared data set copy:**"
   ]
  },
  {
   "cell_type": "code",
   "execution_count": 43,
   "id": "d5a90a3e",
   "metadata": {},
   "outputs": [
    {
     "name": "stdout",
     "output_type": "stream",
     "text": [
      "----------------------------------------TotalCharge---------------------------------------- - "
     ]
    },
    {
     "data": {
      "text/plain": [
       "0.848202    2\n",
       "0.832094    2\n",
       "0.775589    2\n",
       "0.000000    1\n",
       "0.207572    1\n",
       "           ..\n",
       "0.822554    1\n",
       "0.805252    1\n",
       "0.407190    1\n",
       "0.789277    1\n",
       "0.125912    1\n",
       "Name: TotalCharge, Length: 9997, dtype: int64"
      ]
     },
     "metadata": {},
     "output_type": "display_data"
    },
    {
     "name": "stdout",
     "output_type": "stream",
     "text": [
      "----------------------------------------Income---------------------------------------- - "
     ]
    },
    {
     "data": {
      "text/plain": [
       "0.119959    2\n",
       "0.267282    2\n",
       "0.098119    2\n",
       "0.129225    2\n",
       "0.178560    2\n",
       "           ..\n",
       "0.079142    1\n",
       "0.182658    1\n",
       "0.390366    1\n",
       "0.307018    1\n",
       "0.009101    1\n",
       "Name: Income, Length: 9993, dtype: int64"
      ]
     },
     "metadata": {},
     "output_type": "display_data"
    },
    {
     "name": "stdout",
     "output_type": "stream",
     "text": [
      "----------------------------------------Initial_days---------------------------------------- - "
     ]
    },
    {
     "data": {
      "text/plain": [
       "0.881132    2\n",
       "0.935755    2\n",
       "0.976668    2\n",
       "0.000000    1\n",
       "0.045627    1\n",
       "           ..\n",
       "0.709399    1\n",
       "0.968139    1\n",
       "0.966679    1\n",
       "0.800912    1\n",
       "0.758905    1\n",
       "Name: Initial_days, Length: 9997, dtype: int64"
      ]
     },
     "metadata": {},
     "output_type": "display_data"
    },
    {
     "name": "stdout",
     "output_type": "stream",
     "text": [
      "----------------------------------------Additional_charges---------------------------------------- - "
     ]
    },
    {
     "data": {
      "text/plain": [
       "0.303303    3\n",
       "0.809031    3\n",
       "0.238898    3\n",
       "0.298027    3\n",
       "0.183895    3\n",
       "           ..\n",
       "0.307875    1\n",
       "0.101058    1\n",
       "0.339409    1\n",
       "0.182848    1\n",
       "0.149253    1\n",
       "Name: Additional_charges, Length: 9418, dtype: int64"
      ]
     },
     "metadata": {},
     "output_type": "display_data"
    }
   ],
   "source": [
    "# Prepared data set copy after scaling: medical_prepared_scale_kmeans.csv\n",
    "for col in medical_df_scaled.columns:\n",
    "    print('-' * 40 + col + '-' * 40 , end=' - ')\n",
    "    display(medical_df_scaled[col].value_counts())\n",
    "\n",
    "medical_df_scaled.to_csv(\"medical_prepared_scaled_kmeans.csv\", index=False)"
   ]
  },
  {
   "cell_type": "markdown",
   "id": "7cbfc4e3",
   "metadata": {},
   "source": [
    "# Part 4: Analysis"
   ]
  },
  {
   "cell_type": "code",
   "execution_count": 44,
   "id": "ad1f55d7",
   "metadata": {
    "scrolled": true
   },
   "outputs": [
    {
     "name": "stdout",
     "output_type": "stream",
     "text": [
      "Index(['TotalCharge', 'Income', 'Initial_days', 'Additional_charges'], dtype='object')\n"
     ]
    }
   ],
   "source": [
    "# Load medical preapred csv into data frame\n",
    "medical_df = pd.read_csv('medical_prepared_scaled_kmeans.csv')\n",
    "medical_df_columns = medical_df.columns\n",
    "print(medical_df_columns)"
   ]
  },
  {
   "cell_type": "markdown",
   "id": "7dd47186",
   "metadata": {},
   "source": [
    "**D1. Analysis technique**"
   ]
  },
  {
   "cell_type": "markdown",
   "id": "33497157",
   "metadata": {},
   "source": [
    "I will use the Scikit-learn KMeans clustering to iterate over three sets of paired relevant features to provide meaningful heuristics that better understand our patients and, therefore, make better hospital decisions. To find optimal clusters, I will use the scree plot elbow method and Within Cluster Sum of Squares (WCSS) for each set, respectively.\n",
    "\n",
    "These three sets are:\n",
    "\n",
    "1. Initial_days and TotalCharge\n",
    "\n",
    "2. Income and TotalCharge\n",
    "\n",
    "3. Initial_days and Additional_charges\n",
    "\n"
   ]
  },
  {
   "cell_type": "code",
   "execution_count": 45,
   "id": "6d897097",
   "metadata": {},
   "outputs": [],
   "source": [
    "import numpy as np\n",
    "import pandas as pd\n",
    "import statsmodels.api as sm\n",
    "import matplotlib.pyplot as plt\n",
    "import seaborn as sns\n",
    "sns.set()\n",
    "\n",
    "# Import KMeans class from Scikit-learn\n",
    "from sklearn.cluster import KMeans"
   ]
  },
  {
   "cell_type": "markdown",
   "id": "74163ee4",
   "metadata": {},
   "source": [
    "**K-means: Initial_days and TotalCharge**"
   ]
  },
  {
   "cell_type": "code",
   "execution_count": 46,
   "id": "fe1f027f",
   "metadata": {},
   "outputs": [
    {
     "name": "stdout",
     "output_type": "stream",
     "text": [
      "[[0.13502191 0.2469329 ]\n",
      " [0.19903746 0.3113434 ]\n",
      " [0.05311669 0.06847469]\n",
      " ...\n",
      " [0.97425581 0.87514567]\n",
      " [0.87849183 0.78788225]\n",
      " [0.98406723 0.82144425]]\n"
     ]
    }
   ],
   "source": [
    "# Select indexes (features) of Initial_days and TotalCharge for initial clustering\n",
    "#X = medical_df.iloc[:, [28, 29]].values  #all rows, columns Initia_days and TotalCharge\n",
    "\n",
    "X = medical_df.loc[:, ['Initial_days', 'TotalCharge']].values\n",
    "\n",
    "print(X)"
   ]
  },
  {
   "cell_type": "code",
   "execution_count": 47,
   "id": "18806e94",
   "metadata": {},
   "outputs": [],
   "source": [
    "#Plotting the data\n",
    "#plt.scatter(medical_df['Initial_days'],medical_df['TotalCharge'])\n",
    "#plt.show()"
   ]
  },
  {
   "cell_type": "code",
   "execution_count": 48,
   "id": "a5d1e4e1",
   "metadata": {},
   "outputs": [
    {
     "data": {
      "text/plain": [
       "KMeans(n_clusters=2)"
      ]
     },
     "execution_count": 48,
     "metadata": {},
     "output_type": "execute_result"
    }
   ],
   "source": [
    "#Clustering\n",
    "kmeans = KMeans(n_clusters=2) # want cluster the passenger records into 2: Survived or Not survived\n",
    "kmeans.fit(X)"
   ]
  },
  {
   "cell_type": "code",
   "execution_count": 49,
   "id": "5f78d0ba",
   "metadata": {},
   "outputs": [
    {
     "data": {
      "text/plain": [
       "array([1, 1, 1, ..., 0, 0, 0])"
      ]
     },
     "execution_count": 49,
     "metadata": {},
     "output_type": "execute_result"
    }
   ],
   "source": [
    "#Clustering results\n",
    "identified_clusters = kmeans.fit_predict(X)\n",
    "identified_clusters"
   ]
  },
  {
   "cell_type": "code",
   "execution_count": 50,
   "id": "318f0751",
   "metadata": {},
   "outputs": [
    {
     "data": {
      "text/plain": [
       "<matplotlib.collections.PathCollection at 0x2a969c1baf0>"
      ]
     },
     "execution_count": 50,
     "metadata": {},
     "output_type": "execute_result"
    },
    {
     "data": {
      "image/png": "[encoded data removed]",
      "text/plain": [
       "<Figure size 432x288 with 1 Axes>"
      ]
     },
     "metadata": {},
     "output_type": "display_data"
    }
   ],
   "source": [
    "data_with_clusters = medical_df.copy()\n",
    "data_with_clusters['Clusters'] = identified_clusters \n",
    "plt.scatter(data_with_clusters['Initial_days'],data_with_clusters['TotalCharge'],c=data_with_clusters['Clusters'],cmap='rainbow')"
   ]
  },
  {
   "cell_type": "code",
   "execution_count": 51,
   "id": "1fa1f0ff",
   "metadata": {},
   "outputs": [
    {
     "data": {
      "image/png": "[encoded data removed]",
      "text/plain": [
       "<Figure size 432x288 with 1 Axes>"
      ]
     },
     "metadata": {},
     "output_type": "display_data"
    }
   ],
   "source": [
    "#Use the elbow method and Within Cluster Sum of Squares (WCSS) to find the optimal number of clusters.\n",
    "\n",
    "wcss=[]\n",
    "for i in range(1,11):\n",
    "    kmeans = KMeans(i)\n",
    "    kmeans.fit(X)\n",
    "    wcss_iter = kmeans.inertia_\n",
    "    wcss.append(wcss_iter)\n",
    "\n",
    "number_clusters = range(1,11)\n",
    "plt.plot(number_clusters,wcss)\n",
    "plt.title('The Elbow method:Initial Days vs Total Charge ')\n",
    "plt.xlabel('Number of clusters')\n",
    "plt.ylabel('WCSS')\n",
    "plt.savefig('medical_wcss_InitialDays_v_TotalCharge.jpg')\n",
    "plt.show()"
   ]
  },
  {
   "cell_type": "markdown",
   "id": "5eb9bb82",
   "metadata": {},
   "source": [
    "From \"The Elbow method: Initial Days vs. Total Charge,\" we can choose two as the number of clusters. This method shows what a good number of clusters is.\n",
    "\n",
    "Next, I will categorize the data using the optimum number of clusters I determined in the last step (n_clusters= 2). \n",
    "I will use k-means++ to ensure that I don't fall into the random initialization trap."
   ]
  },
  {
   "cell_type": "code",
   "execution_count": 52,
   "id": "2e9bd2f1",
   "metadata": {},
   "outputs": [
    {
     "name": "stdout",
     "output_type": "stream",
     "text": [
      "[1 1 1 ... 0 0 0]\n"
     ]
    }
   ],
   "source": [
    "# Train the K-means model on the dataset\n",
    "kmeans = KMeans(n_clusters=2, init='k-means++', random_state=42)\n",
    "# Build the dependent variable to split customers in different clusters\n",
    "pred_kmeans_y = kmeans.fit_predict(X)\n",
    "\n",
    "print(pred_kmeans_y)"
   ]
  },
  {
   "cell_type": "code",
   "execution_count": 53,
   "id": "9233aecf",
   "metadata": {},
   "outputs": [
    {
     "data": {
      "image/png": "[encoded data removed]",
      "text/plain": [
       "<Figure size 432x288 with 1 Axes>"
      ]
     },
     "metadata": {},
     "output_type": "display_data"
    }
   ],
   "source": [
    "#plt.scatter(X[:,0], X[:,1])\n",
    "# Scatter plot 4 clusters for Initial_Days and TotalCharge\n",
    "plt.scatter(X[pred_kmeans_y == 0, 0], X[pred_kmeans_y == 0, 1], s = 10, c = 'orange', label = 'cluster 1')\n",
    "plt.scatter(X[pred_kmeans_y == 1, 0], X[pred_kmeans_y == 1, 1], s = 10, c = 'red', label = 'cluster 2')\n",
    "\n",
    "# Plot centroids of each cluster\n",
    "plt.scatter(kmeans.cluster_centers_[:, 0], kmeans.cluster_centers_[:, 1], s=300, c='gray', label = 'Centroids')\n",
    "\n",
    "# Generate plot description\n",
    "title_obj = plt.title('Two Clusters of Patients') #get the title property handler\n",
    "plt.xlabel('Initial_Days (days)')\n",
    "plt.ylabel('TotalCharge $')\n",
    "\n",
    "# Color of legend font\n",
    "legend = plt.legend(loc='center left', bbox_to_anchor=(1, 0.5))\n",
    "\n",
    "# Save plot to directory\n",
    "plt.savefig('medical_kmeans_InitialDays_vs_TotalCharge.jpg')\n",
    "\n",
    "# Plot it\n",
    "plt.show();"
   ]
  },
  {
   "cell_type": "markdown",
   "id": "8f664fdd",
   "metadata": {},
   "source": [
    "**K-means: Income and TotalCharge**"
   ]
  },
  {
   "cell_type": "code",
   "execution_count": 54,
   "id": "0ad5b369",
   "metadata": {},
   "outputs": [
    {
     "name": "stdout",
     "output_type": "stream",
     "text": [
      "[[0.4173053  0.2469329 ]\n",
      " [0.22526814 0.3113434 ]\n",
      " [0.06864511 0.06847469]\n",
      " ...\n",
      " [0.31755341 0.87514567]\n",
      " [0.14267963 0.78788225]\n",
      " [0.30193169 0.82144425]]\n"
     ]
    }
   ],
   "source": [
    "# Select indexes (features) of Income and TotalCharge for initial clustering\n",
    "#X = medical_df.iloc[:, [28, 29]].values  #all rows, columns Initia_days and TotalCharge\n",
    "\n",
    "X = medical_df.loc[:, ['Income', 'TotalCharge']].values\n",
    "\n",
    "print(X)"
   ]
  },
  {
   "cell_type": "code",
   "execution_count": 55,
   "id": "91d9a305",
   "metadata": {},
   "outputs": [
    {
     "data": {
      "text/plain": [
       "KMeans(n_clusters=2)"
      ]
     },
     "execution_count": 55,
     "metadata": {},
     "output_type": "execute_result"
    }
   ],
   "source": [
    "#Clustering\n",
    "kmeans = KMeans(n_clusters=2) #cluster the passenger records into 2: Survived or Not survived\n",
    "kmeans.fit(X)"
   ]
  },
  {
   "cell_type": "code",
   "execution_count": 56,
   "id": "2ff3cbc9",
   "metadata": {},
   "outputs": [
    {
     "data": {
      "text/plain": [
       "array([1, 1, 1, ..., 0, 0, 0])"
      ]
     },
     "execution_count": 56,
     "metadata": {},
     "output_type": "execute_result"
    }
   ],
   "source": [
    "#Clustering results\n",
    "identified_clusters = kmeans.fit_predict(X)\n",
    "identified_clusters"
   ]
  },
  {
   "cell_type": "code",
   "execution_count": 57,
   "id": "06eb26d8",
   "metadata": {},
   "outputs": [
    {
     "data": {
      "text/plain": [
       "<matplotlib.collections.PathCollection at 0x2a969cf4700>"
      ]
     },
     "execution_count": 57,
     "metadata": {},
     "output_type": "execute_result"
    },
    {
     "data": {
      "image/png": "[encoded data removed]",
      "text/plain": [
       "<Figure size 432x288 with 1 Axes>"
      ]
     },
     "metadata": {},
     "output_type": "display_data"
    }
   ],
   "source": [
    "data_with_clusters = medical_df.copy()\n",
    "data_with_clusters['Clusters'] = identified_clusters \n",
    "plt.scatter(data_with_clusters['Income'],data_with_clusters['TotalCharge'],c=data_with_clusters['Clusters'],cmap='rainbow')"
   ]
  },
  {
   "cell_type": "code",
   "execution_count": 58,
   "id": "48fbb30c",
   "metadata": {},
   "outputs": [
    {
     "data": {
      "image/png": "[encoded data removed]",
      "text/plain": [
       "<Figure size 432x288 with 1 Axes>"
      ]
     },
     "metadata": {},
     "output_type": "display_data"
    }
   ],
   "source": [
    "#Use the elbow method and Within Cluster Sum of Squares (WCSS) to find the optimal number of clusters.\n",
    "\n",
    "wcss=[]\n",
    "for i in range(1,11):\n",
    "    kmeans = KMeans(i)\n",
    "    kmeans.fit(X)\n",
    "    wcss_iter = kmeans.inertia_\n",
    "    wcss.append(wcss_iter)\n",
    "\n",
    "number_clusters = range(1,11)\n",
    "plt.plot(number_clusters,wcss)\n",
    "plt.title('The Elbow method: Income vs Total Charge ')\n",
    "plt.xlabel('Number of clusters')\n",
    "plt.ylabel('WCSS')\n",
    "plt.savefig('medical_wcss_Income_v_TotalCharge.jpg')\n",
    "plt.show()"
   ]
  },
  {
   "cell_type": "markdown",
   "id": "51368a9d",
   "metadata": {},
   "source": [
    "From \"The Elbow method: Income vs. Total Charge,\" we can choose six as the number of clusters. This method shows what a good number of clusters is.\n",
    "\n",
    "Next, I will categorize the data using the optimum number of clusters I determined in the last step (n_clusters= 4). \n",
    "I will use k-means++ to ensure that I don't fall into the random initialization trap."
   ]
  },
  {
   "cell_type": "code",
   "execution_count": 59,
   "id": "95ff861d",
   "metadata": {},
   "outputs": [
    {
     "name": "stdout",
     "output_type": "stream",
     "text": [
      "[1 3 3 ... 0 2 0]\n"
     ]
    }
   ],
   "source": [
    "# Train the K-means model on the dataset\n",
    "kmeans = KMeans(n_clusters=4, init='k-means++', random_state=42)\n",
    "# Build the dependent variable to split customers in different clusters\n",
    "pred_kmeans_y = kmeans.fit_predict(X)\n",
    "\n",
    "print(pred_kmeans_y)"
   ]
  },
  {
   "cell_type": "code",
   "execution_count": 60,
   "id": "920a6d5b",
   "metadata": {},
   "outputs": [
    {
     "data": {
      "image/png": "[encoded data removed]",
      "text/plain": [
       "<Figure size 432x288 with 1 Axes>"
      ]
     },
     "metadata": {},
     "output_type": "display_data"
    }
   ],
   "source": [
    "#plt.scatter(X[:,0], X[:,1])\n",
    "# Scatter plot 4 clusters for Initial_Days and TotalCharge\n",
    "plt.scatter(X[pred_kmeans_y == 0, 0], X[pred_kmeans_y == 0, 1], s = 10, c = 'orange', label = 'cluster 1')\n",
    "plt.scatter(X[pred_kmeans_y == 1, 0], X[pred_kmeans_y == 1, 1], s = 10, c = 'red', label = 'cluster 2')\n",
    "plt.scatter(X[pred_kmeans_y == 2, 0], X[pred_kmeans_y == 2, 1], s = 10, c = 'green', label = 'cluster 3')\n",
    "plt.scatter(X[pred_kmeans_y == 3, 0], X[pred_kmeans_y == 3, 1], s = 10, c = 'blue', label = 'cluster 4')\n",
    "#plt.scatter(X[pred_kmeans_y == 4, 0], X[pred_kmeans_y == 4, 1], s = 10, c = 'cyan', label = 'cluster 5')\n",
    "#plt.scatter(X[pred_kmeans_y == 5, 0], X[pred_kmeans_y == 5, 1], s = 10, c = 'magenta', label = 'cluster 6')\n",
    "\n",
    "# Plot centroids of each cluster\n",
    "plt.scatter(kmeans.cluster_centers_[:, 0], kmeans.cluster_centers_[:, 1], s=300, c='gray', label = 'Centroids')\n",
    "\n",
    "# Generate plot description\n",
    "title_obj = plt.title('4 Clusters of Patients') #get the title property handler\n",
    "plt.xlabel('Income $')\n",
    "plt.ylabel('TotalCharge $')\n",
    "\n",
    "# Color of legend font\n",
    "legend = plt.legend(loc='center left', bbox_to_anchor=(1, 0.5))\n",
    "\n",
    "# Save plot to directory\n",
    "plt.savefig('medical_kmeans_Income_vs_TotalCharge.jpg')\n",
    "\n",
    "# Plot it\n",
    "plt.show();"
   ]
  },
  {
   "cell_type": "markdown",
   "id": "b27fa257",
   "metadata": {},
   "source": [
    "**K-means: Initial_days and Additional_charges**"
   ]
  },
  {
   "cell_type": "code",
   "execution_count": 61,
   "id": "d11e7611",
   "metadata": {},
   "outputs": [
    {
     "name": "stdout",
     "output_type": "stream",
     "text": [
      "[[0.13502191 0.53985067]\n",
      " [0.19903746 0.52795559]\n",
      " [0.05311669 0.52402686]\n",
      " ...\n",
      " [0.97425581 0.44297902]\n",
      " [0.87849183 0.16967612]\n",
      " [0.98406723 0.31039989]]\n"
     ]
    }
   ],
   "source": [
    "# Select indexes (features) of Initial_days and Additional_charges for initial clustering\n",
    "#X = medical_df.iloc[:, [28, 29]].values  #all rows, columns Initia_days and TotalCharge\n",
    "\n",
    "X = medical_df.loc[:, ['Initial_days', 'Additional_charges']].values\n",
    "\n",
    "print(X)"
   ]
  },
  {
   "cell_type": "code",
   "execution_count": 62,
   "id": "2e58b562",
   "metadata": {},
   "outputs": [
    {
     "data": {
      "text/plain": [
       "KMeans(n_clusters=2)"
      ]
     },
     "execution_count": 62,
     "metadata": {},
     "output_type": "execute_result"
    }
   ],
   "source": [
    "#Clustering\n",
    "kmeans = KMeans(n_clusters=2) # You want cluster the passenger records into 2: Survived or Not survived\n",
    "kmeans.fit(X)"
   ]
  },
  {
   "cell_type": "code",
   "execution_count": 63,
   "id": "d91c2fae",
   "metadata": {},
   "outputs": [
    {
     "data": {
      "text/plain": [
       "array([1, 1, 1, ..., 0, 0, 0])"
      ]
     },
     "execution_count": 63,
     "metadata": {},
     "output_type": "execute_result"
    }
   ],
   "source": [
    "#Clustering results\n",
    "identified_clusters = kmeans.fit_predict(X)\n",
    "identified_clusters"
   ]
  },
  {
   "cell_type": "code",
   "execution_count": 64,
   "id": "c02bddf1",
   "metadata": {},
   "outputs": [
    {
     "data": {
      "text/plain": [
       "<matplotlib.collections.PathCollection at 0x2a969e07a00>"
      ]
     },
     "execution_count": 64,
     "metadata": {},
     "output_type": "execute_result"
    },
    {
     "data": {
      "image/png": "[encoded data removed]",
      "text/plain": [
       "<Figure size 432x288 with 1 Axes>"
      ]
     },
     "metadata": {},
     "output_type": "display_data"
    }
   ],
   "source": [
    "data_with_clusters = medical_df.copy()\n",
    "data_with_clusters['Clusters'] = identified_clusters \n",
    "plt.scatter(data_with_clusters['Initial_days'],data_with_clusters['Additional_charges'],c=data_with_clusters['Clusters'],cmap='rainbow')"
   ]
  },
  {
   "cell_type": "code",
   "execution_count": 65,
   "id": "11e41030",
   "metadata": {},
   "outputs": [
    {
     "data": {
      "image/png": "[encoded data removed]",
      "text/plain": [
       "<Figure size 432x288 with 1 Axes>"
      ]
     },
     "metadata": {},
     "output_type": "display_data"
    }
   ],
   "source": [
    "#Use the elbow method and Within Cluster Sum of Squares (WCSS) to find the optimal number of clusters.\n",
    "\n",
    "wcss=[]\n",
    "for i in range(1,11):\n",
    "    kmeans = KMeans(i)\n",
    "    kmeans.fit(X)\n",
    "    wcss_iter = kmeans.inertia_\n",
    "    wcss.append(wcss_iter)\n",
    "\n",
    "number_clusters = range(1,11)\n",
    "plt.plot(number_clusters,wcss)\n",
    "plt.title('The Elbow method: Initial_days vs Additional_charges')\n",
    "plt.xlabel('Number of clusters')\n",
    "plt.ylabel('WCSS')\n",
    "plt.savefig('medical_wcss_InitialDays_v_AdditionalCharges.jpg')\n",
    "plt.show()"
   ]
  },
  {
   "cell_type": "markdown",
   "id": "de147393",
   "metadata": {},
   "source": [
    "From \"The Elbow method: Income vs. Additional_charge,\" we can choose four as the number of clusters. This method shows what a good number of clusters is.\n",
    "\n",
    "Next, I will categorize the data using the optimum number of clusters I determined in the last step (n_clusters= 4). \n",
    "I will use k-means++ to ensure that I don't fall into the random initialization trap."
   ]
  },
  {
   "cell_type": "code",
   "execution_count": 66,
   "id": "907c2e50",
   "metadata": {},
   "outputs": [
    {
     "name": "stdout",
     "output_type": "stream",
     "text": [
      "[3 3 3 ... 1 1 1]\n"
     ]
    }
   ],
   "source": [
    "# Train the K-means model on the dataset\n",
    "kmeans = KMeans(n_clusters=4, init='k-means++', random_state=42)\n",
    "# Build the dependent variable to split customers in different clusters\n",
    "pred_kmeans_y = kmeans.fit_predict(X)\n",
    "\n",
    "print(pred_kmeans_y)"
   ]
  },
  {
   "cell_type": "code",
   "execution_count": 67,
   "id": "dbe339e2",
   "metadata": {},
   "outputs": [
    {
     "data": {
      "image/png": "[encoded data removed]",
      "text/plain": [
       "<Figure size 432x288 with 1 Axes>"
      ]
     },
     "metadata": {},
     "output_type": "display_data"
    }
   ],
   "source": [
    "#plt.scatter(X[:,0], X[:,1])\n",
    "# Scatter plot 4 clusters for Initial_Days and Additional_charges\n",
    "plt.scatter(X[pred_kmeans_y == 0, 0], X[pred_kmeans_y == 0, 1], s = 10, c = 'orange', label = 'cluster 1')\n",
    "plt.scatter(X[pred_kmeans_y == 1, 0], X[pred_kmeans_y == 1, 1], s = 10, c = 'red', label = 'cluster 2')\n",
    "plt.scatter(X[pred_kmeans_y == 2, 0], X[pred_kmeans_y == 2, 1], s = 10, c = 'green', label = 'cluster 3')\n",
    "plt.scatter(X[pred_kmeans_y == 3, 0], X[pred_kmeans_y == 3, 1], s = 10, c = 'blue', label = 'cluster 4')\n",
    "#plt.scatter(X[pred_kmeans_y == 4, 0], X[pred_kmeans_y == 4, 1], s = 10, c = 'cyan', label = 'cluster 5')\n",
    "#plt.scatter(X[pred_kmeans_y == 5, 0], X[pred_kmeans_y == 5, 1], s = 10, c = 'magenta', label = 'cluster 6')\n",
    "\n",
    "# Plot centroids of each cluster\n",
    "plt.scatter(kmeans.cluster_centers_[:, 0], kmeans.cluster_centers_[:, 1], s=300, c='gray', label = 'Centroids')\n",
    "\n",
    "# Generate plot description\n",
    "title_obj = plt.title('6 Clusters of Patients') #get the title property handler\n",
    "plt.xlabel('Initial_Days (days)')\n",
    "plt.ylabel('Additional_charges $')\n",
    "\n",
    "# Color of legend font\n",
    "legend = plt.legend(loc='center left', bbox_to_anchor=(1, 0.5))\n",
    "\n",
    "# Save plot to directory\n",
    "plt.savefig('medical_kmeans_InitialDays_vs_AdditionalCharges.jpg')\n",
    "\n",
    "# Plot it\n",
    "plt.show();"
   ]
  },
  {
   "cell_type": "markdown",
   "id": "9dad39ca",
   "metadata": {},
   "source": [
    "**D2. Provide the code used and output**\n",
    "\n",
    "Please see above."
   ]
  },
  {
   "cell_type": "markdown",
   "id": "486a859a",
   "metadata": {},
   "source": [
    "# Part 5: Data Summary"
   ]
  },
  {
   "cell_type": "markdown",
   "id": "3d61cd4b",
   "metadata": {},
   "source": [
    "**E1. Accuracy Score**\n",
    "\n",
    "According to Shruti Kapil, k-means clustering factors are scalability, efficiency, and simplicity. (Shruti Kapil, 2016)\n",
    "\n",
    "I will consider three factors in evaluating the accuracy of our k-means clustering:\n",
    "\n",
    "1. Number\n",
    "2. Quality \n",
    "3. Tendency/Trend \n",
    "\n",
    "**Number:** We can pick the number of clusters by eye-ball inspecting the data points, but there is much ambiguity in this process except the simple data set. I used the Scikit-learn KMeans clustering to iterate over three sets of paired relevant features to provide meaningful heuristics that better understand our patients and, therefore, make better hospital decisions. To find optimal clusters, I used the elbow method and Within Cluster Sum of Squares (WCSS) to find optimal clusters. \n",
    "\n",
    "1. Initial_days and TotalCharge, the elbow results demonstrate two clusterings.\n",
    "\n",
    "2. Income and TotalCharge, the elbow results demonstrate four clusterings.\n",
    "\n",
    "3. Initial_days and Additional_charges, the elbow results demonstrate four clusterings.\n",
    "\n",
    "**Quality:** We can view the tension of clusters with deference to their particular centroids in the clustering. The plotted clusters demonstrate in the three k-means clusterings, and our clusters are not nearly grouped around their centroids. Therefore, the nature of the medical dataset has given us the levels of clusters.\n",
    "\n",
    "**Tendency** Many potential numerical variables have uniformly distributed data points in the medical dataset. Therefore, we demonstrated the meaningful clusters by selecting non-uniform distribution variables of Initial_days, TotalCharge, Income, and Additional_charges to perform our analyses. \n",
    "\n"
   ]
  },
  {
   "cell_type": "markdown",
   "id": "8e406e00",
   "metadata": {},
   "source": [
    "**E2. Results**\n",
    "\n",
    "The research question is, \"Can we better understand our patients by clustering based on Initial_days, Income, TotalCharge, and Additional_charges?\"\n",
    "\n",
    "We have used the k-means clustering method, the most straightforward clustering algorithm. It is a subset of unsupervised learning and has inherent subjectivity in labeling. So having experience with the problems will help us pick the correct value. Results and implications are as follows:\n",
    "\n",
    "1. Comparing Initial_days and Total Charge in the medical data set from the hospital, we saw two main groups. First, the patients stay for shorter periods and have lower charges, and the patients who stay for more extended periods tend to pay more. This result seems acceptable.\n",
    "\n",
    "2. Comparing Income and TotalCharge in the medical data set from the hospital, we had four optimal clusterings. This result may help us decide the market segments. For example, the patients spending within each income cluster ran from low to high total charge reasonably uniform. We did not find the relationship between the Income and Total charge as the business expected - more Income, Total charge, but I think it is a fair result because the hospital charge should not be based on the patient's Income.\n",
    "\n",
    "3. Comparing Initial_days and Additional_charges in the medical data set from the hospital, we had four optimal clusterings. These results give us a better understanding of which groups to market more and identify which patients have a lower additional charge and stay long or patients visit shorter periods and have a high additional charge. \n"
   ]
  },
  {
   "cell_type": "markdown",
   "id": "91ff04af",
   "metadata": {},
   "source": [
    "**E3. The limitation:**\n",
    "\n",
    "The first limitation of the k-means clustering is that it does not support missing values in the data, so we need to see and handle them before using the k-means. There are a couple of ways to solve the missing value problem, such as removing rows with missing values or imputing the missing values. I will prefer imputing the missing values way because removing the rows can cause failure in the data. The k-means clustering is also sensitive to outliers, and different outcomes can occur when we change the sorting of the data. The most significant limitation of the k-means clustering is that it requires the pre-specifying the number of clusters, k- value which may not always be the case with a real-world dataset. The k-means clustering uses the numerical variables only, and we have to scale before analysis to give equal importance to all features."
   ]
  },
  {
   "cell_type": "markdown",
   "id": "fda426b8",
   "metadata": {},
   "source": [
    "**E4.  Action:**"
   ]
  },
  {
   "cell_type": "markdown",
   "id": "fe7cbdd0",
   "metadata": {},
   "source": [
    "Based on the results, I would advise the business to analyze the features in common among those readmitted to the hospital and attempt to reduce their likelihood of coming back in the future. It is in the best interest of readmitted patients to provide them with more services and improve their experience with the hospital by helping patients understand all the available services. In addition, there are clusters of customers with low income, both with high and low total charges/additional charges. In addition, individual patient characteristics might influence repeat hospitalizations. For example, patients with a low- income may have more difficulties paying for prescriptions or accessing transport to follow-up schedules. \n",
    "\n",
    "To reduce the readmission rate, the hospital needs to understand patients' social determinants, such as questions about living conditions and the ability to assess resources for food and transportation. In addition, the hospital needs to improve the hospital service and understand a patients' social determinants. More importantly, the current system for readmission may put facilities serving lower-income communities at a distinct financial disadvantage.\n",
    "\n",
    "Finally, I also think we do not have enough data in the data set and need to collect more data to predict which patients are at high risk of readmission. Instead, we will need full features for each example to compute the space by filling the missing values with the average value of the variable across the whole dataset."
   ]
  },
  {
   "cell_type": "markdown",
   "id": "fa6addcb",
   "metadata": {},
   "source": [
    "# Part 6: Demonstration"
   ]
  },
  {
   "cell_type": "markdown",
   "id": "1a3fc5a7",
   "metadata": {},
   "source": [
    "**F. Panopto recording**\n",
    "\n",
    "Panopto video recording of warning and error free code execution to perform data minning tasks is uploaded to https://wgu.hosted.panopto.com/Panopto/Pages/Viewer.aspx?id=6b71655f-dbb8-4e9b-b666-ae0a001fdd09\n"
   ]
  },
  {
   "cell_type": "markdown",
   "id": "1a706fcb",
   "metadata": {},
   "source": [
    "**G. Sources for third-party code**\n",
    "\n",
    "[1] Sharma Pranshu. (2021, April 26). K Means Clustering Simplified in Python. https://www.analyticsvidhya.com/blog/2021/04/k-means-clustering-simplified-in-python/\n",
    "\n",
    "[2] Maklin Cory. (2018, December 28). K-means Clustering Python Example. https://towardsdatascience.com/machine-learning-algorithms-part-9-k-means-example-in-python-f2ad05ed5203\n",
    "\n",
    "\n",
    "[3] Zach. (2020, July 21). How to Create a Residual Plot in Python. https://www.statology.org/residual-plot-python/\n",
    "\n",
    "[4] Alade Tola. (2018, May 27). Tutorial: How to determine the optimal number of clusters for k-means clustering. https://blog.cambridgespark.com/how-to-determine-the-optimal-number-of-clusters-for-k-means-clustering-14f27070048f\n",
    "\n",
    "[5] Datacamp. (n/d). D212 - Data Mining II Course. https://app.datacamp.com/learn/custom-tracks/custom-data-mining-ii\n"
   ]
  },
  {
   "cell_type": "markdown",
   "id": "ed6b7f91",
   "metadata": {},
   "source": [
    "**H. Acknowledge source**\n",
    "\n",
    "[6] Akanksha Nagar. (2020, January 26). K-means Clustering — Everything you need to know\n",
    "https://medium.com/analytics-vidhya/k-means-clustering-everything-you-need-to-know-175dd01766d5#f6a0\n",
    "\n",
    "[7] W3 School. (n.d). Pandas DataFrame iloc Property. https://www.w3schools.com/python/pandas/ref_df_iloc.asp\n",
    "\n",
    "[8] Arora Lakshay. (2020, February 14). How to use loc and iloc for Selecting Data in Pandas (with Python code!). https://www.analyticsvidhya.com/blog/2020/02/loc-iloc-pandas/\n",
    "\n",
    "[9] Ryzhkov Evgeniy. (2020, July 23). 5 Stages of Data Preprocessing for K-means clustering. https://medium.com/@evgen.ryzhkov/5-stages-of-data-preprocessing-for-k-means-clustering-b755426f9932\n",
    " \n",
    "[10] Shruti Kapil. (2016, July 6). Performance evaluation of K-means clustering algorithm with various distance metrics. https://ieeexplore.ieee.org/document/7853264/authors#authors\n",
    "\n",
    "[11] Coder's Digest. (2021, Janueary 13). How to do feature scaling in machine learning | Min-Max Scaler. https://www.youtube.com/watch?v=oT2xJhCHWSI\n",
    "\n",
    "\n",
    "[12] VanderPlas Jake.(n.d.) In Depth: k-Means Clustering. \n",
    "https://jakevdp.github.io/PythonDataScienceHandbook/05.11-k-means.html"
   ]
  }
 ],
 "metadata": {
  "kernelspec": {
   "display_name": "Python 3",
   "language": "python",
   "name": "python3"
  },
  "language_info": {
   "codemirror_mode": {
    "name": "ipython",
    "version": 3
   },
   "file_extension": ".py",
   "mimetype": "text/x-python",
   "name": "python",
   "nbconvert_exporter": "python",
   "pygments_lexer": "ipython3",
   "version": "3.8.8"
  }
 },
 "nbformat": 4,
 "nbformat_minor": 5
}
